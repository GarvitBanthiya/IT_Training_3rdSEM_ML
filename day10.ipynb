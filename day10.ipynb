{
 "cells": [
  {
   "cell_type": "code",
   "execution_count": 14,
   "id": "75d9a294-ebde-4d94-9a49-dbad15acc0a1",
   "metadata": {},
   "outputs": [],
   "source": [
    "import pandas as pd"
   ]
  },
  {
   "cell_type": "code",
   "execution_count": 15,
   "id": "55406343-e668-471a-aad7-f826c8e39e43",
   "metadata": {},
   "outputs": [],
   "source": [
    "movies = pd.read_csv(r'mymovies.csv')"
   ]
  },
  {
   "cell_type": "markdown",
   "id": "69dcb66b-4c15-452c-b01f-8943645b37f5",
   "metadata": {},
   "source": [
    "movies"
   ]
  },
  {
   "cell_type": "code",
   "execution_count": 44,
   "id": "6a9c3e2a-616d-4600-9929-527019b32a1b",
   "metadata": {},
   "outputs": [
    {
     "data": {
      "text/html": [
       "<div>\n",
       "<style scoped>\n",
       "    .dataframe tbody tr th:only-of-type {\n",
       "        vertical-align: middle;\n",
       "    }\n",
       "\n",
       "    .dataframe tbody tr th {\n",
       "        vertical-align: top;\n",
       "    }\n",
       "\n",
       "    .dataframe thead th {\n",
       "        text-align: right;\n",
       "    }\n",
       "</style>\n",
       "<table border=\"1\" class=\"dataframe\">\n",
       "  <thead>\n",
       "    <tr style=\"text-align: right;\">\n",
       "      <th></th>\n",
       "      <th>Id</th>\n",
       "      <th>Name</th>\n",
       "      <th>Industry</th>\n",
       "      <th>genre</th>\n",
       "      <th>Language</th>\n",
       "      <th>Duration</th>\n",
       "      <th>Rating</th>\n",
       "    </tr>\n",
       "  </thead>\n",
       "  <tbody>\n",
       "    <tr>\n",
       "      <th>0</th>\n",
       "      <td>NaN</td>\n",
       "      <td>Bahubali</td>\n",
       "      <td>Tollywood</td>\n",
       "      <td>Action</td>\n",
       "      <td>Telugu</td>\n",
       "      <td>170</td>\n",
       "      <td>9.5</td>\n",
       "    </tr>\n",
       "    <tr>\n",
       "      <th>1</th>\n",
       "      <td>NaN</td>\n",
       "      <td>Brahmastra</td>\n",
       "      <td>Bollywood</td>\n",
       "      <td>Mystereous</td>\n",
       "      <td>Hindi</td>\n",
       "      <td>180</td>\n",
       "      <td>5.0</td>\n",
       "    </tr>\n",
       "    <tr>\n",
       "      <th>2</th>\n",
       "      <td>NaN</td>\n",
       "      <td>uri -the surgical strike</td>\n",
       "      <td>Bollywood</td>\n",
       "      <td>Action</td>\n",
       "      <td>Hindi</td>\n",
       "      <td>120</td>\n",
       "      <td>10.0</td>\n",
       "    </tr>\n",
       "    <tr>\n",
       "      <th>3</th>\n",
       "      <td>NaN</td>\n",
       "      <td>DDLJ</td>\n",
       "      <td>Bollywood</td>\n",
       "      <td>Romantic</td>\n",
       "      <td>Hindi</td>\n",
       "      <td>150</td>\n",
       "      <td>10.0</td>\n",
       "    </tr>\n",
       "    <tr>\n",
       "      <th>4</th>\n",
       "      <td>NaN</td>\n",
       "      <td>Avengers-End of game</td>\n",
       "      <td>Hollywood</td>\n",
       "      <td>Action</td>\n",
       "      <td>English</td>\n",
       "      <td>180</td>\n",
       "      <td>9.0</td>\n",
       "    </tr>\n",
       "    <tr>\n",
       "      <th>5</th>\n",
       "      <td>NaN</td>\n",
       "      <td>Tenet</td>\n",
       "      <td>Hollywood</td>\n",
       "      <td>SciFi</td>\n",
       "      <td>English</td>\n",
       "      <td>150</td>\n",
       "      <td>8.5</td>\n",
       "    </tr>\n",
       "    <tr>\n",
       "      <th>6</th>\n",
       "      <td>NaN</td>\n",
       "      <td>Major</td>\n",
       "      <td>Bollywood</td>\n",
       "      <td>Action</td>\n",
       "      <td>Hindi</td>\n",
       "      <td>140</td>\n",
       "      <td>8.0</td>\n",
       "    </tr>\n",
       "    <tr>\n",
       "      <th>7</th>\n",
       "      <td>NaN</td>\n",
       "      <td>Intersteller</td>\n",
       "      <td>Hollywood</td>\n",
       "      <td>SciFi</td>\n",
       "      <td>English</td>\n",
       "      <td>190</td>\n",
       "      <td>7.0</td>\n",
       "    </tr>\n",
       "    <tr>\n",
       "      <th>8</th>\n",
       "      <td>NaN</td>\n",
       "      <td>Gravity</td>\n",
       "      <td>Hollywood</td>\n",
       "      <td>SciFi</td>\n",
       "      <td>English</td>\n",
       "      <td>130</td>\n",
       "      <td>6.0</td>\n",
       "    </tr>\n",
       "    <tr>\n",
       "      <th>9</th>\n",
       "      <td>NaN</td>\n",
       "      <td>Titanic</td>\n",
       "      <td>Hollywood</td>\n",
       "      <td>Drama</td>\n",
       "      <td>English</td>\n",
       "      <td>180</td>\n",
       "      <td>9.0</td>\n",
       "    </tr>\n",
       "    <tr>\n",
       "      <th>10</th>\n",
       "      <td>NaN</td>\n",
       "      <td>Yeh jawani Hai Deewani</td>\n",
       "      <td>Bollywood</td>\n",
       "      <td>Romantic</td>\n",
       "      <td>Hindi</td>\n",
       "      <td>150</td>\n",
       "      <td>5.0</td>\n",
       "    </tr>\n",
       "    <tr>\n",
       "      <th>11</th>\n",
       "      <td>NaN</td>\n",
       "      <td>Housefull</td>\n",
       "      <td>Bollywood</td>\n",
       "      <td>Comedy</td>\n",
       "      <td>Hindi</td>\n",
       "      <td>150</td>\n",
       "      <td>6.0</td>\n",
       "    </tr>\n",
       "    <tr>\n",
       "      <th>12</th>\n",
       "      <td>NaN</td>\n",
       "      <td>The Dictator</td>\n",
       "      <td>Hollywood</td>\n",
       "      <td>Comedy</td>\n",
       "      <td>English</td>\n",
       "      <td>120</td>\n",
       "      <td>7.0</td>\n",
       "    </tr>\n",
       "    <tr>\n",
       "      <th>13</th>\n",
       "      <td>NaN</td>\n",
       "      <td>Hera pheri</td>\n",
       "      <td>Bollywood</td>\n",
       "      <td>Comedy</td>\n",
       "      <td>Hindi</td>\n",
       "      <td>140</td>\n",
       "      <td>9.0</td>\n",
       "    </tr>\n",
       "    <tr>\n",
       "      <th>14</th>\n",
       "      <td>NaN</td>\n",
       "      <td>Sholay</td>\n",
       "      <td>Bollywood</td>\n",
       "      <td>Drama</td>\n",
       "      <td>Hindi</td>\n",
       "      <td>150</td>\n",
       "      <td>8.5</td>\n",
       "    </tr>\n",
       "  </tbody>\n",
       "</table>\n",
       "</div>"
      ],
      "text/plain": [
       "    Id                      Name   Industry       genre Language  Duration  \\\n",
       "0  NaN                  Bahubali  Tollywood      Action   Telugu       170   \n",
       "1  NaN                Brahmastra  Bollywood  Mystereous    Hindi       180   \n",
       "2  NaN  uri -the surgical strike  Bollywood      Action    Hindi       120   \n",
       "3  NaN                      DDLJ  Bollywood    Romantic    Hindi       150   \n",
       "4  NaN      Avengers-End of game  Hollywood      Action  English       180   \n",
       "5  NaN                     Tenet  Hollywood       SciFi  English       150   \n",
       "6  NaN                     Major  Bollywood      Action    Hindi       140   \n",
       "7  NaN              Intersteller  Hollywood       SciFi  English       190   \n",
       "8  NaN                   Gravity  Hollywood       SciFi  English       130   \n",
       "9  NaN                   Titanic  Hollywood       Drama  English       180   \n",
       "10 NaN    Yeh jawani Hai Deewani  Bollywood    Romantic    Hindi       150   \n",
       "11 NaN                 Housefull  Bollywood      Comedy    Hindi       150   \n",
       "12 NaN              The Dictator  Hollywood      Comedy  English       120   \n",
       "13 NaN                Hera pheri  Bollywood      Comedy    Hindi       140   \n",
       "14 NaN                    Sholay  Bollywood       Drama    Hindi       150   \n",
       "\n",
       "    Rating   \n",
       "0       9.5  \n",
       "1       5.0  \n",
       "2      10.0  \n",
       "3      10.0  \n",
       "4       9.0  \n",
       "5       8.5  \n",
       "6       8.0  \n",
       "7       7.0  \n",
       "8       6.0  \n",
       "9       9.0  \n",
       "10      5.0  \n",
       "11      6.0  \n",
       "12      7.0  \n",
       "13      9.0  \n",
       "14      8.5  "
      ]
     },
     "execution_count": 44,
     "metadata": {},
     "output_type": "execute_result"
    }
   ],
   "source": [
    "movies"
   ]
  },
  {
   "cell_type": "markdown",
   "id": "49277687-f47e-4d3f-8a05-92bb6fe0f8d0",
   "metadata": {},
   "source": [
    "# q1"
   ]
  },
  {
   "cell_type": "code",
   "execution_count": 40,
   "id": "fe77ad73-fe5d-4c76-a651-77d730d98df2",
   "metadata": {},
   "outputs": [
    {
     "data": {
      "text/plain": [
       "7"
      ]
     },
     "execution_count": 40,
     "metadata": {},
     "output_type": "execute_result"
    }
   ],
   "source": [
    "movies['Duration'].argmax()"
   ]
  },
  {
   "cell_type": "code",
   "execution_count": 19,
   "id": "e8e38de9-1aea-4302-aded-26da0e2ad42f",
   "metadata": {},
   "outputs": [
    {
     "data": {
      "text/plain": [
       "'Intersteller'"
      ]
     },
     "execution_count": 19,
     "metadata": {},
     "output_type": "execute_result"
    }
   ],
   "source": [
    "movies['Name'][7]"
   ]
  },
  {
   "cell_type": "code",
   "execution_count": 89,
   "id": "64180e97-e742-4c7b-a548-7fa47ac69bcd",
   "metadata": {},
   "outputs": [
    {
     "ename": "SyntaxError",
     "evalue": "unexpected EOF while parsing (4128584848.py, line 1)",
     "output_type": "error",
     "traceback": [
      "\u001b[1;36m  Input \u001b[1;32mIn [89]\u001b[1;36m\u001b[0m\n\u001b[1;33m    movies['Name'][movies['Duration'].argmax()\u001b[0m\n\u001b[1;37m                                              ^\u001b[0m\n\u001b[1;31mSyntaxError\u001b[0m\u001b[1;31m:\u001b[0m unexpected EOF while parsing\n"
     ]
    }
   ],
   "source": [
    "movies['Name'][movies['Duration'].argmax()"
   ]
  },
  {
   "cell_type": "markdown",
   "id": "36fe61bb-db72-45c5-8e88-322317413027",
   "metadata": {},
   "source": [
    "# q2"
   ]
  },
  {
   "cell_type": "code",
   "execution_count": 88,
   "id": "7687bf6e-41c3-4be2-8850-83d7515ca3c7",
   "metadata": {},
   "outputs": [
    {
     "ename": "KeyError",
     "evalue": "'Rating'",
     "output_type": "error",
     "traceback": [
      "\u001b[1;31m---------------------------------------------------------------------------\u001b[0m",
      "\u001b[1;31mKeyError\u001b[0m                                  Traceback (most recent call last)",
      "File \u001b[1;32m~\\anaconda3\\lib\\site-packages\\pandas\\core\\indexes\\base.py:3621\u001b[0m, in \u001b[0;36mIndex.get_loc\u001b[1;34m(self, key, method, tolerance)\u001b[0m\n\u001b[0;32m   3620\u001b[0m \u001b[38;5;28;01mtry\u001b[39;00m:\n\u001b[1;32m-> 3621\u001b[0m     \u001b[38;5;28;01mreturn\u001b[39;00m \u001b[38;5;28;43mself\u001b[39;49m\u001b[38;5;241;43m.\u001b[39;49m\u001b[43m_engine\u001b[49m\u001b[38;5;241;43m.\u001b[39;49m\u001b[43mget_loc\u001b[49m\u001b[43m(\u001b[49m\u001b[43mcasted_key\u001b[49m\u001b[43m)\u001b[49m\n\u001b[0;32m   3622\u001b[0m \u001b[38;5;28;01mexcept\u001b[39;00m \u001b[38;5;167;01mKeyError\u001b[39;00m \u001b[38;5;28;01mas\u001b[39;00m err:\n",
      "File \u001b[1;32m~\\anaconda3\\lib\\site-packages\\pandas\\_libs\\index.pyx:136\u001b[0m, in \u001b[0;36mpandas._libs.index.IndexEngine.get_loc\u001b[1;34m()\u001b[0m\n",
      "File \u001b[1;32m~\\anaconda3\\lib\\site-packages\\pandas\\_libs\\index.pyx:163\u001b[0m, in \u001b[0;36mpandas._libs.index.IndexEngine.get_loc\u001b[1;34m()\u001b[0m\n",
      "File \u001b[1;32mpandas\\_libs\\hashtable_class_helper.pxi:5198\u001b[0m, in \u001b[0;36mpandas._libs.hashtable.PyObjectHashTable.get_item\u001b[1;34m()\u001b[0m\n",
      "File \u001b[1;32mpandas\\_libs\\hashtable_class_helper.pxi:5206\u001b[0m, in \u001b[0;36mpandas._libs.hashtable.PyObjectHashTable.get_item\u001b[1;34m()\u001b[0m\n",
      "\u001b[1;31mKeyError\u001b[0m: 'Rating'",
      "\nThe above exception was the direct cause of the following exception:\n",
      "\u001b[1;31mKeyError\u001b[0m                                  Traceback (most recent call last)",
      "Input \u001b[1;32mIn [88]\u001b[0m, in \u001b[0;36m<cell line: 1>\u001b[1;34m()\u001b[0m\n\u001b[1;32m----> 1\u001b[0m movies[\u001b[38;5;124m'\u001b[39m\u001b[38;5;124mName\u001b[39m\u001b[38;5;124m'\u001b[39m](\u001b[43mmovies\u001b[49m\u001b[43m[\u001b[49m\u001b[38;5;124;43m'\u001b[39;49m\u001b[38;5;124;43mRating\u001b[39;49m\u001b[38;5;124;43m'\u001b[39;49m\u001b[43m]\u001b[49m\u001b[38;5;241m==\u001b[39m\u001b[38;5;241m10\u001b[39m)\n",
      "File \u001b[1;32m~\\anaconda3\\lib\\site-packages\\pandas\\core\\frame.py:3505\u001b[0m, in \u001b[0;36mDataFrame.__getitem__\u001b[1;34m(self, key)\u001b[0m\n\u001b[0;32m   3503\u001b[0m \u001b[38;5;28;01mif\u001b[39;00m \u001b[38;5;28mself\u001b[39m\u001b[38;5;241m.\u001b[39mcolumns\u001b[38;5;241m.\u001b[39mnlevels \u001b[38;5;241m>\u001b[39m \u001b[38;5;241m1\u001b[39m:\n\u001b[0;32m   3504\u001b[0m     \u001b[38;5;28;01mreturn\u001b[39;00m \u001b[38;5;28mself\u001b[39m\u001b[38;5;241m.\u001b[39m_getitem_multilevel(key)\n\u001b[1;32m-> 3505\u001b[0m indexer \u001b[38;5;241m=\u001b[39m \u001b[38;5;28;43mself\u001b[39;49m\u001b[38;5;241;43m.\u001b[39;49m\u001b[43mcolumns\u001b[49m\u001b[38;5;241;43m.\u001b[39;49m\u001b[43mget_loc\u001b[49m\u001b[43m(\u001b[49m\u001b[43mkey\u001b[49m\u001b[43m)\u001b[49m\n\u001b[0;32m   3506\u001b[0m \u001b[38;5;28;01mif\u001b[39;00m is_integer(indexer):\n\u001b[0;32m   3507\u001b[0m     indexer \u001b[38;5;241m=\u001b[39m [indexer]\n",
      "File \u001b[1;32m~\\anaconda3\\lib\\site-packages\\pandas\\core\\indexes\\base.py:3623\u001b[0m, in \u001b[0;36mIndex.get_loc\u001b[1;34m(self, key, method, tolerance)\u001b[0m\n\u001b[0;32m   3621\u001b[0m     \u001b[38;5;28;01mreturn\u001b[39;00m \u001b[38;5;28mself\u001b[39m\u001b[38;5;241m.\u001b[39m_engine\u001b[38;5;241m.\u001b[39mget_loc(casted_key)\n\u001b[0;32m   3622\u001b[0m \u001b[38;5;28;01mexcept\u001b[39;00m \u001b[38;5;167;01mKeyError\u001b[39;00m \u001b[38;5;28;01mas\u001b[39;00m err:\n\u001b[1;32m-> 3623\u001b[0m     \u001b[38;5;28;01mraise\u001b[39;00m \u001b[38;5;167;01mKeyError\u001b[39;00m(key) \u001b[38;5;28;01mfrom\u001b[39;00m \u001b[38;5;21;01merr\u001b[39;00m\n\u001b[0;32m   3624\u001b[0m \u001b[38;5;28;01mexcept\u001b[39;00m \u001b[38;5;167;01mTypeError\u001b[39;00m:\n\u001b[0;32m   3625\u001b[0m     \u001b[38;5;66;03m# If we have a listlike key, _check_indexing_error will raise\u001b[39;00m\n\u001b[0;32m   3626\u001b[0m     \u001b[38;5;66;03m#  InvalidIndexError. Otherwise we fall through and re-raise\u001b[39;00m\n\u001b[0;32m   3627\u001b[0m     \u001b[38;5;66;03m#  the TypeError.\u001b[39;00m\n\u001b[0;32m   3628\u001b[0m     \u001b[38;5;28mself\u001b[39m\u001b[38;5;241m.\u001b[39m_check_indexing_error(key)\n",
      "\u001b[1;31mKeyError\u001b[0m: 'Rating'"
     ]
    }
   ],
   "source": [
    "movies['Name'][movies['Rating']==10]"
   ]
  },
  {
   "cell_type": "markdown",
   "id": "1069d40b-d412-4f86-9800-1232f13a04d4",
   "metadata": {},
   "source": [
    "# q3"
   ]
  },
  {
   "cell_type": "code",
   "execution_count": 22,
   "id": "6295cc74-b794-44fb-a784-ed6015f70b1f",
   "metadata": {},
   "outputs": [
    {
     "data": {
      "text/plain": [
       "3"
      ]
     },
     "execution_count": 22,
     "metadata": {},
     "output_type": "execute_result"
    }
   ],
   "source": [
    "movies['Industry'].value_counts().count()"
   ]
  },
  {
   "cell_type": "code",
   "execution_count": 23,
   "id": "c62f4fd0-ba2b-414e-ba21-9046f49987f4",
   "metadata": {},
   "outputs": [
    {
     "data": {
      "text/plain": [
       "3"
      ]
     },
     "execution_count": 23,
     "metadata": {},
     "output_type": "execute_result"
    }
   ],
   "source": [
    "len(movies['Industry'].value_counts())"
   ]
  },
  {
   "cell_type": "code",
   "execution_count": 24,
   "id": "26e104b6-9797-49da-ab42-fcdb70208b93",
   "metadata": {},
   "outputs": [
    {
     "data": {
      "text/plain": [
       "3"
      ]
     },
     "execution_count": 24,
     "metadata": {},
     "output_type": "execute_result"
    }
   ],
   "source": [
    "movies['Industry'].nunique()"
   ]
  },
  {
   "cell_type": "code",
   "execution_count": 25,
   "id": "bef2f82d-6a06-4dc9-8cff-978ce8e4de2b",
   "metadata": {},
   "outputs": [
    {
     "data": {
      "text/plain": [
       "Bollywood    8\n",
       "Hollywood    6\n",
       "Tollywood    1\n",
       "Name: Industry, dtype: int64"
      ]
     },
     "execution_count": 25,
     "metadata": {},
     "output_type": "execute_result"
    }
   ],
   "source": [
    "movies['Industry'].value_counts()"
   ]
  },
  {
   "cell_type": "markdown",
   "id": "37948fd6-cd4a-470d-90c0-5b4d2136f614",
   "metadata": {},
   "source": [
    "#q4"
   ]
  },
  {
   "cell_type": "markdown",
   "id": "78d59118-9c7f-4ace-8228-1571ab59c407",
   "metadata": {},
   "source": [
    "# q4"
   ]
  },
  {
   "cell_type": "code",
   "execution_count": 27,
   "id": "9860b085-e6df-4a35-a05d-59e71298571d",
   "metadata": {},
   "outputs": [
    {
     "ename": "KeyError",
     "evalue": "'Rating'",
     "output_type": "error",
     "traceback": [
      "\u001b[1;31m---------------------------------------------------------------------------\u001b[0m",
      "\u001b[1;31mKeyError\u001b[0m                                  Traceback (most recent call last)",
      "File \u001b[1;32m~\\anaconda3\\lib\\site-packages\\pandas\\core\\indexes\\base.py:3621\u001b[0m, in \u001b[0;36mIndex.get_loc\u001b[1;34m(self, key, method, tolerance)\u001b[0m\n\u001b[0;32m   3620\u001b[0m \u001b[38;5;28;01mtry\u001b[39;00m:\n\u001b[1;32m-> 3621\u001b[0m     \u001b[38;5;28;01mreturn\u001b[39;00m \u001b[38;5;28;43mself\u001b[39;49m\u001b[38;5;241;43m.\u001b[39;49m\u001b[43m_engine\u001b[49m\u001b[38;5;241;43m.\u001b[39;49m\u001b[43mget_loc\u001b[49m\u001b[43m(\u001b[49m\u001b[43mcasted_key\u001b[49m\u001b[43m)\u001b[49m\n\u001b[0;32m   3622\u001b[0m \u001b[38;5;28;01mexcept\u001b[39;00m \u001b[38;5;167;01mKeyError\u001b[39;00m \u001b[38;5;28;01mas\u001b[39;00m err:\n",
      "File \u001b[1;32m~\\anaconda3\\lib\\site-packages\\pandas\\_libs\\index.pyx:136\u001b[0m, in \u001b[0;36mpandas._libs.index.IndexEngine.get_loc\u001b[1;34m()\u001b[0m\n",
      "File \u001b[1;32m~\\anaconda3\\lib\\site-packages\\pandas\\_libs\\index.pyx:163\u001b[0m, in \u001b[0;36mpandas._libs.index.IndexEngine.get_loc\u001b[1;34m()\u001b[0m\n",
      "File \u001b[1;32mpandas\\_libs\\hashtable_class_helper.pxi:5198\u001b[0m, in \u001b[0;36mpandas._libs.hashtable.PyObjectHashTable.get_item\u001b[1;34m()\u001b[0m\n",
      "File \u001b[1;32mpandas\\_libs\\hashtable_class_helper.pxi:5206\u001b[0m, in \u001b[0;36mpandas._libs.hashtable.PyObjectHashTable.get_item\u001b[1;34m()\u001b[0m\n",
      "\u001b[1;31mKeyError\u001b[0m: 'Rating'",
      "\nThe above exception was the direct cause of the following exception:\n",
      "\u001b[1;31mKeyError\u001b[0m                                  Traceback (most recent call last)",
      "Input \u001b[1;32mIn [27]\u001b[0m, in \u001b[0;36m<cell line: 1>\u001b[1;34m()\u001b[0m\n\u001b[1;32m----> 1\u001b[0m movies[\u001b[38;5;124m'\u001b[39m\u001b[38;5;124mName\u001b[39m\u001b[38;5;124m'\u001b[39m][\u001b[43mmovies\u001b[49m\u001b[43m[\u001b[49m\u001b[43mmovies\u001b[49m\u001b[43m[\u001b[49m\u001b[38;5;124;43m'\u001b[39;49m\u001b[38;5;124;43mgenre\u001b[39;49m\u001b[38;5;124;43m'\u001b[39;49m\u001b[43m]\u001b[49m\u001b[43m \u001b[49m\u001b[38;5;241;43m==\u001b[39;49m\u001b[43m \u001b[49m\u001b[38;5;124;43m'\u001b[39;49m\u001b[38;5;124;43mComedy\u001b[39;49m\u001b[38;5;124;43m'\u001b[39;49m\u001b[43m]\u001b[49m\u001b[43m[\u001b[49m\u001b[38;5;124;43m'\u001b[39;49m\u001b[38;5;124;43mRating\u001b[39;49m\u001b[38;5;124;43m'\u001b[39;49m\u001b[43m]\u001b[49m\u001b[38;5;241m.\u001b[39midxmin()]\n",
      "File \u001b[1;32m~\\anaconda3\\lib\\site-packages\\pandas\\core\\frame.py:3505\u001b[0m, in \u001b[0;36mDataFrame.__getitem__\u001b[1;34m(self, key)\u001b[0m\n\u001b[0;32m   3503\u001b[0m \u001b[38;5;28;01mif\u001b[39;00m \u001b[38;5;28mself\u001b[39m\u001b[38;5;241m.\u001b[39mcolumns\u001b[38;5;241m.\u001b[39mnlevels \u001b[38;5;241m>\u001b[39m \u001b[38;5;241m1\u001b[39m:\n\u001b[0;32m   3504\u001b[0m     \u001b[38;5;28;01mreturn\u001b[39;00m \u001b[38;5;28mself\u001b[39m\u001b[38;5;241m.\u001b[39m_getitem_multilevel(key)\n\u001b[1;32m-> 3505\u001b[0m indexer \u001b[38;5;241m=\u001b[39m \u001b[38;5;28;43mself\u001b[39;49m\u001b[38;5;241;43m.\u001b[39;49m\u001b[43mcolumns\u001b[49m\u001b[38;5;241;43m.\u001b[39;49m\u001b[43mget_loc\u001b[49m\u001b[43m(\u001b[49m\u001b[43mkey\u001b[49m\u001b[43m)\u001b[49m\n\u001b[0;32m   3506\u001b[0m \u001b[38;5;28;01mif\u001b[39;00m is_integer(indexer):\n\u001b[0;32m   3507\u001b[0m     indexer \u001b[38;5;241m=\u001b[39m [indexer]\n",
      "File \u001b[1;32m~\\anaconda3\\lib\\site-packages\\pandas\\core\\indexes\\base.py:3623\u001b[0m, in \u001b[0;36mIndex.get_loc\u001b[1;34m(self, key, method, tolerance)\u001b[0m\n\u001b[0;32m   3621\u001b[0m     \u001b[38;5;28;01mreturn\u001b[39;00m \u001b[38;5;28mself\u001b[39m\u001b[38;5;241m.\u001b[39m_engine\u001b[38;5;241m.\u001b[39mget_loc(casted_key)\n\u001b[0;32m   3622\u001b[0m \u001b[38;5;28;01mexcept\u001b[39;00m \u001b[38;5;167;01mKeyError\u001b[39;00m \u001b[38;5;28;01mas\u001b[39;00m err:\n\u001b[1;32m-> 3623\u001b[0m     \u001b[38;5;28;01mraise\u001b[39;00m \u001b[38;5;167;01mKeyError\u001b[39;00m(key) \u001b[38;5;28;01mfrom\u001b[39;00m \u001b[38;5;21;01merr\u001b[39;00m\n\u001b[0;32m   3624\u001b[0m \u001b[38;5;28;01mexcept\u001b[39;00m \u001b[38;5;167;01mTypeError\u001b[39;00m:\n\u001b[0;32m   3625\u001b[0m     \u001b[38;5;66;03m# If we have a listlike key, _check_indexing_error will raise\u001b[39;00m\n\u001b[0;32m   3626\u001b[0m     \u001b[38;5;66;03m#  InvalidIndexError. Otherwise we fall through and re-raise\u001b[39;00m\n\u001b[0;32m   3627\u001b[0m     \u001b[38;5;66;03m#  the TypeError.\u001b[39;00m\n\u001b[0;32m   3628\u001b[0m     \u001b[38;5;28mself\u001b[39m\u001b[38;5;241m.\u001b[39m_check_indexing_error(key)\n",
      "\u001b[1;31mKeyError\u001b[0m: 'Rating'"
     ]
    }
   ],
   "source": [
    "movies['Name'][movies[movies['genre'] == 'Comedy']['Rating'].idxmin()]"
   ]
  },
  {
   "cell_type": "markdown",
   "id": "360f6d50-fb1f-4255-b4f5-9615cc860f9e",
   "metadata": {},
   "source": [
    "# q5"
   ]
  },
  {
   "cell_type": "code",
   "execution_count": 28,
   "id": "15b4abe4-4cec-4b91-adc5-9784a5848f74",
   "metadata": {},
   "outputs": [
    {
     "data": {
      "text/plain": [
       "'Intersteller'"
      ]
     },
     "execution_count": 28,
     "metadata": {},
     "output_type": "execute_result"
    }
   ],
   "source": [
    "movies['Name'][movies[movies['Language'] == 'English']['Duration'].idxmax()]"
   ]
  },
  {
   "cell_type": "markdown",
   "id": "825efd78-a913-4823-92fc-bc4083fe7166",
   "metadata": {},
   "source": [
    "# q6"
   ]
  },
  {
   "cell_type": "code",
   "execution_count": 29,
   "id": "42b62afd-e9af-412f-bc1d-74048c9845b5",
   "metadata": {},
   "outputs": [
    {
     "data": {
      "text/plain": [
       "Series([], Name: genre, dtype: object)"
      ]
     },
     "execution_count": 29,
     "metadata": {},
     "output_type": "execute_result"
    }
   ],
   "source": [
    "movies['genre'][movies['Name']=='Interstellar']"
   ]
  },
  {
   "cell_type": "code",
   "execution_count": 39,
   "id": "d1b94708-6836-4e23-881d-ab8b2c7f4597",
   "metadata": {},
   "outputs": [
    {
     "data": {
      "text/plain": [
       "'SciFi'"
      ]
     },
     "execution_count": 39,
     "metadata": {},
     "output_type": "execute_result"
    }
   ],
   "source": [
    "movies['genre'][movies['Name'].str.lower()=='Intersteller'.lower()].values[0]"
   ]
  },
  {
   "cell_type": "code",
   "execution_count": 49,
   "id": "231e3d43-ef0f-4e47-a71b-b245eb6ae6f4",
   "metadata": {},
   "outputs": [
    {
     "data": {
      "text/plain": [
       "0    NaN\n",
       "1    NaN\n",
       "2    NaN\n",
       "3    NaN\n",
       "4    NaN\n",
       "5    NaN\n",
       "6    NaN\n",
       "7    NaN\n",
       "8    NaN\n",
       "9    NaN\n",
       "10   NaN\n",
       "11   NaN\n",
       "12   NaN\n",
       "13   NaN\n",
       "14   NaN\n",
       "Name: Name, dtype: float64"
      ]
     },
     "execution_count": 49,
     "metadata": {},
     "output_type": "execute_result"
    }
   ],
   "source": [
    "movies['Name'].str.endswith(0)"
   ]
  },
  {
   "cell_type": "code",
   "execution_count": 50,
   "id": "7d4f85f9-609a-4c49-afef-65fd46353743",
   "metadata": {},
   "outputs": [
    {
     "data": {
      "text/html": [
       "<div>\n",
       "<style scoped>\n",
       "    .dataframe tbody tr th:only-of-type {\n",
       "        vertical-align: middle;\n",
       "    }\n",
       "\n",
       "    .dataframe tbody tr th {\n",
       "        vertical-align: top;\n",
       "    }\n",
       "\n",
       "    .dataframe thead th {\n",
       "        text-align: right;\n",
       "    }\n",
       "</style>\n",
       "<table border=\"1\" class=\"dataframe\">\n",
       "  <thead>\n",
       "    <tr style=\"text-align: right;\">\n",
       "      <th></th>\n",
       "      <th>Avengers-End of game</th>\n",
       "      <th>Bahubali</th>\n",
       "      <th>Brahmastra</th>\n",
       "      <th>DDLJ</th>\n",
       "      <th>Gravity</th>\n",
       "      <th>Hera pheri</th>\n",
       "      <th>Housefull</th>\n",
       "      <th>Intersteller</th>\n",
       "      <th>Major</th>\n",
       "      <th>Sholay</th>\n",
       "      <th>Tenet</th>\n",
       "      <th>The Dictator</th>\n",
       "      <th>Titanic</th>\n",
       "      <th>Yeh jawani Hai Deewani</th>\n",
       "      <th>uri -the surgical strike</th>\n",
       "    </tr>\n",
       "  </thead>\n",
       "  <tbody>\n",
       "    <tr>\n",
       "      <th>0</th>\n",
       "      <td>0</td>\n",
       "      <td>1</td>\n",
       "      <td>0</td>\n",
       "      <td>0</td>\n",
       "      <td>0</td>\n",
       "      <td>0</td>\n",
       "      <td>0</td>\n",
       "      <td>0</td>\n",
       "      <td>0</td>\n",
       "      <td>0</td>\n",
       "      <td>0</td>\n",
       "      <td>0</td>\n",
       "      <td>0</td>\n",
       "      <td>0</td>\n",
       "      <td>0</td>\n",
       "    </tr>\n",
       "    <tr>\n",
       "      <th>1</th>\n",
       "      <td>0</td>\n",
       "      <td>0</td>\n",
       "      <td>1</td>\n",
       "      <td>0</td>\n",
       "      <td>0</td>\n",
       "      <td>0</td>\n",
       "      <td>0</td>\n",
       "      <td>0</td>\n",
       "      <td>0</td>\n",
       "      <td>0</td>\n",
       "      <td>0</td>\n",
       "      <td>0</td>\n",
       "      <td>0</td>\n",
       "      <td>0</td>\n",
       "      <td>0</td>\n",
       "    </tr>\n",
       "    <tr>\n",
       "      <th>2</th>\n",
       "      <td>0</td>\n",
       "      <td>0</td>\n",
       "      <td>0</td>\n",
       "      <td>0</td>\n",
       "      <td>0</td>\n",
       "      <td>0</td>\n",
       "      <td>0</td>\n",
       "      <td>0</td>\n",
       "      <td>0</td>\n",
       "      <td>0</td>\n",
       "      <td>0</td>\n",
       "      <td>0</td>\n",
       "      <td>0</td>\n",
       "      <td>0</td>\n",
       "      <td>1</td>\n",
       "    </tr>\n",
       "    <tr>\n",
       "      <th>3</th>\n",
       "      <td>0</td>\n",
       "      <td>0</td>\n",
       "      <td>0</td>\n",
       "      <td>1</td>\n",
       "      <td>0</td>\n",
       "      <td>0</td>\n",
       "      <td>0</td>\n",
       "      <td>0</td>\n",
       "      <td>0</td>\n",
       "      <td>0</td>\n",
       "      <td>0</td>\n",
       "      <td>0</td>\n",
       "      <td>0</td>\n",
       "      <td>0</td>\n",
       "      <td>0</td>\n",
       "    </tr>\n",
       "    <tr>\n",
       "      <th>4</th>\n",
       "      <td>1</td>\n",
       "      <td>0</td>\n",
       "      <td>0</td>\n",
       "      <td>0</td>\n",
       "      <td>0</td>\n",
       "      <td>0</td>\n",
       "      <td>0</td>\n",
       "      <td>0</td>\n",
       "      <td>0</td>\n",
       "      <td>0</td>\n",
       "      <td>0</td>\n",
       "      <td>0</td>\n",
       "      <td>0</td>\n",
       "      <td>0</td>\n",
       "      <td>0</td>\n",
       "    </tr>\n",
       "    <tr>\n",
       "      <th>5</th>\n",
       "      <td>0</td>\n",
       "      <td>0</td>\n",
       "      <td>0</td>\n",
       "      <td>0</td>\n",
       "      <td>0</td>\n",
       "      <td>0</td>\n",
       "      <td>0</td>\n",
       "      <td>0</td>\n",
       "      <td>0</td>\n",
       "      <td>0</td>\n",
       "      <td>1</td>\n",
       "      <td>0</td>\n",
       "      <td>0</td>\n",
       "      <td>0</td>\n",
       "      <td>0</td>\n",
       "    </tr>\n",
       "    <tr>\n",
       "      <th>6</th>\n",
       "      <td>0</td>\n",
       "      <td>0</td>\n",
       "      <td>0</td>\n",
       "      <td>0</td>\n",
       "      <td>0</td>\n",
       "      <td>0</td>\n",
       "      <td>0</td>\n",
       "      <td>0</td>\n",
       "      <td>1</td>\n",
       "      <td>0</td>\n",
       "      <td>0</td>\n",
       "      <td>0</td>\n",
       "      <td>0</td>\n",
       "      <td>0</td>\n",
       "      <td>0</td>\n",
       "    </tr>\n",
       "    <tr>\n",
       "      <th>7</th>\n",
       "      <td>0</td>\n",
       "      <td>0</td>\n",
       "      <td>0</td>\n",
       "      <td>0</td>\n",
       "      <td>0</td>\n",
       "      <td>0</td>\n",
       "      <td>0</td>\n",
       "      <td>1</td>\n",
       "      <td>0</td>\n",
       "      <td>0</td>\n",
       "      <td>0</td>\n",
       "      <td>0</td>\n",
       "      <td>0</td>\n",
       "      <td>0</td>\n",
       "      <td>0</td>\n",
       "    </tr>\n",
       "    <tr>\n",
       "      <th>8</th>\n",
       "      <td>0</td>\n",
       "      <td>0</td>\n",
       "      <td>0</td>\n",
       "      <td>0</td>\n",
       "      <td>1</td>\n",
       "      <td>0</td>\n",
       "      <td>0</td>\n",
       "      <td>0</td>\n",
       "      <td>0</td>\n",
       "      <td>0</td>\n",
       "      <td>0</td>\n",
       "      <td>0</td>\n",
       "      <td>0</td>\n",
       "      <td>0</td>\n",
       "      <td>0</td>\n",
       "    </tr>\n",
       "    <tr>\n",
       "      <th>9</th>\n",
       "      <td>0</td>\n",
       "      <td>0</td>\n",
       "      <td>0</td>\n",
       "      <td>0</td>\n",
       "      <td>0</td>\n",
       "      <td>0</td>\n",
       "      <td>0</td>\n",
       "      <td>0</td>\n",
       "      <td>0</td>\n",
       "      <td>0</td>\n",
       "      <td>0</td>\n",
       "      <td>0</td>\n",
       "      <td>1</td>\n",
       "      <td>0</td>\n",
       "      <td>0</td>\n",
       "    </tr>\n",
       "    <tr>\n",
       "      <th>10</th>\n",
       "      <td>0</td>\n",
       "      <td>0</td>\n",
       "      <td>0</td>\n",
       "      <td>0</td>\n",
       "      <td>0</td>\n",
       "      <td>0</td>\n",
       "      <td>0</td>\n",
       "      <td>0</td>\n",
       "      <td>0</td>\n",
       "      <td>0</td>\n",
       "      <td>0</td>\n",
       "      <td>0</td>\n",
       "      <td>0</td>\n",
       "      <td>1</td>\n",
       "      <td>0</td>\n",
       "    </tr>\n",
       "    <tr>\n",
       "      <th>11</th>\n",
       "      <td>0</td>\n",
       "      <td>0</td>\n",
       "      <td>0</td>\n",
       "      <td>0</td>\n",
       "      <td>0</td>\n",
       "      <td>0</td>\n",
       "      <td>1</td>\n",
       "      <td>0</td>\n",
       "      <td>0</td>\n",
       "      <td>0</td>\n",
       "      <td>0</td>\n",
       "      <td>0</td>\n",
       "      <td>0</td>\n",
       "      <td>0</td>\n",
       "      <td>0</td>\n",
       "    </tr>\n",
       "    <tr>\n",
       "      <th>12</th>\n",
       "      <td>0</td>\n",
       "      <td>0</td>\n",
       "      <td>0</td>\n",
       "      <td>0</td>\n",
       "      <td>0</td>\n",
       "      <td>0</td>\n",
       "      <td>0</td>\n",
       "      <td>0</td>\n",
       "      <td>0</td>\n",
       "      <td>0</td>\n",
       "      <td>0</td>\n",
       "      <td>1</td>\n",
       "      <td>0</td>\n",
       "      <td>0</td>\n",
       "      <td>0</td>\n",
       "    </tr>\n",
       "    <tr>\n",
       "      <th>13</th>\n",
       "      <td>0</td>\n",
       "      <td>0</td>\n",
       "      <td>0</td>\n",
       "      <td>0</td>\n",
       "      <td>0</td>\n",
       "      <td>1</td>\n",
       "      <td>0</td>\n",
       "      <td>0</td>\n",
       "      <td>0</td>\n",
       "      <td>0</td>\n",
       "      <td>0</td>\n",
       "      <td>0</td>\n",
       "      <td>0</td>\n",
       "      <td>0</td>\n",
       "      <td>0</td>\n",
       "    </tr>\n",
       "    <tr>\n",
       "      <th>14</th>\n",
       "      <td>0</td>\n",
       "      <td>0</td>\n",
       "      <td>0</td>\n",
       "      <td>0</td>\n",
       "      <td>0</td>\n",
       "      <td>0</td>\n",
       "      <td>0</td>\n",
       "      <td>0</td>\n",
       "      <td>0</td>\n",
       "      <td>1</td>\n",
       "      <td>0</td>\n",
       "      <td>0</td>\n",
       "      <td>0</td>\n",
       "      <td>0</td>\n",
       "      <td>0</td>\n",
       "    </tr>\n",
       "  </tbody>\n",
       "</table>\n",
       "</div>"
      ],
      "text/plain": [
       "    Avengers-End of game  Bahubali  Brahmastra  DDLJ  Gravity  Hera pheri  \\\n",
       "0                      0         1           0     0        0           0   \n",
       "1                      0         0           1     0        0           0   \n",
       "2                      0         0           0     0        0           0   \n",
       "3                      0         0           0     1        0           0   \n",
       "4                      1         0           0     0        0           0   \n",
       "5                      0         0           0     0        0           0   \n",
       "6                      0         0           0     0        0           0   \n",
       "7                      0         0           0     0        0           0   \n",
       "8                      0         0           0     0        1           0   \n",
       "9                      0         0           0     0        0           0   \n",
       "10                     0         0           0     0        0           0   \n",
       "11                     0         0           0     0        0           0   \n",
       "12                     0         0           0     0        0           0   \n",
       "13                     0         0           0     0        0           1   \n",
       "14                     0         0           0     0        0           0   \n",
       "\n",
       "    Housefull  Intersteller  Major  Sholay  Tenet  The Dictator  Titanic  \\\n",
       "0           0             0      0       0      0             0        0   \n",
       "1           0             0      0       0      0             0        0   \n",
       "2           0             0      0       0      0             0        0   \n",
       "3           0             0      0       0      0             0        0   \n",
       "4           0             0      0       0      0             0        0   \n",
       "5           0             0      0       0      1             0        0   \n",
       "6           0             0      1       0      0             0        0   \n",
       "7           0             1      0       0      0             0        0   \n",
       "8           0             0      0       0      0             0        0   \n",
       "9           0             0      0       0      0             0        1   \n",
       "10          0             0      0       0      0             0        0   \n",
       "11          1             0      0       0      0             0        0   \n",
       "12          0             0      0       0      0             1        0   \n",
       "13          0             0      0       0      0             0        0   \n",
       "14          0             0      0       1      0             0        0   \n",
       "\n",
       "    Yeh jawani Hai Deewani  uri -the surgical strike  \n",
       "0                        0                         0  \n",
       "1                        0                         0  \n",
       "2                        0                         1  \n",
       "3                        0                         0  \n",
       "4                        0                         0  \n",
       "5                        0                         0  \n",
       "6                        0                         0  \n",
       "7                        0                         0  \n",
       "8                        0                         0  \n",
       "9                        0                         0  \n",
       "10                       1                         0  \n",
       "11                       0                         0  \n",
       "12                       0                         0  \n",
       "13                       0                         0  \n",
       "14                       0                         0  "
      ]
     },
     "execution_count": 50,
     "metadata": {},
     "output_type": "execute_result"
    }
   ],
   "source": [
    "movies['Name'].str.get_dummies()"
   ]
  },
  {
   "cell_type": "code",
   "execution_count": 58,
   "id": "3ad8de9c-a683-4763-870f-c16aa5a15104",
   "metadata": {},
   "outputs": [
    {
     "data": {
      "text/plain": [
       "0                     BAHUBALI\n",
       "1                   BRAHMASTRA\n",
       "2     URI -THE SURGICAL STRIKE\n",
       "3                         DDLJ\n",
       "4         AVENGERS-END OF GAME\n",
       "5                        TENET\n",
       "6                        MAJOR\n",
       "7                 INTERSTELLER\n",
       "8                      GRAVITY\n",
       "9                      TITANIC\n",
       "10      YEH JAWANI HAI DEEWANI\n",
       "11                   HOUSEFULL\n",
       "12                THE DICTATOR\n",
       "13                  HERA PHERI\n",
       "14                      SHOLAY\n",
       "Name: Name, dtype: object"
      ]
     },
     "execution_count": 58,
     "metadata": {},
     "output_type": "execute_result"
    }
   ],
   "source": [
    "movies['Name'].str.upper()"
   ]
  },
  {
   "cell_type": "code",
   "execution_count": 64,
   "id": "bb01b391-93e4-435b-81b3-b409f9bf138c",
   "metadata": {},
   "outputs": [
    {
     "data": {
      "text/plain": [
       "0                     Bahubali\n",
       "1                   Brahmastra\n",
       "2     uri -the surgical strike\n",
       "3                         DDLJ\n",
       "4         Avengers-End of game\n",
       "5                        Tenet\n",
       "6                        Major\n",
       "7                 Intersteller\n",
       "8                      Gravity\n",
       "9                      Titanic\n",
       "10      Yeh jawani Hai Deewani\n",
       "11                   Housefull\n",
       "12                The Dictator\n",
       "13                  Hera pheri\n",
       "14                      Sholay\n",
       "Name: Name, dtype: object"
      ]
     },
     "execution_count": 64,
     "metadata": {},
     "output_type": "execute_result"
    }
   ],
   "source": [
    "movies['Name'].str.strip()"
   ]
  },
  {
   "cell_type": "markdown",
   "id": "54537071-5b4c-4958-9d32-8211bd13a550",
   "metadata": {},
   "source": [
    "# q7"
   ]
  },
  {
   "cell_type": "code",
   "execution_count": 65,
   "id": "665a2abb-fca3-44a5-814e-b1da774241e6",
   "metadata": {},
   "outputs": [
    {
     "data": {
      "text/plain": [
       "array(['Action', 'Mystereous', 'Romantic', 'SciFi', 'Drama', 'Comedy'],\n",
       "      dtype=object)"
      ]
     },
     "execution_count": 65,
     "metadata": {},
     "output_type": "execute_result"
    }
   ],
   "source": [
    "movies['genre'].unique()"
   ]
  },
  {
   "cell_type": "code",
   "execution_count": 70,
   "id": "d30a8c56-1cb5-4042-8394-948999e03915",
   "metadata": {},
   "outputs": [
    {
     "data": {
      "text/plain": [
       "6"
      ]
     },
     "execution_count": 70,
     "metadata": {},
     "output_type": "execute_result"
    }
   ],
   "source": [
    "movies['genre'].nunique()"
   ]
  },
  {
   "cell_type": "code",
   "execution_count": 67,
   "id": "6d2ae961-720a-437a-a415-93e96d1c1f10",
   "metadata": {},
   "outputs": [
    {
     "name": "stdout",
     "output_type": "stream",
     "text": [
      "Action 152.5\n",
      "Mystereous 180.0\n",
      "Romantic 150.0\n",
      "SciFi 156.66666666666666\n",
      "Drama 165.0\n",
      "Comedy 136.66666666666666\n"
     ]
    }
   ],
   "source": [
    "for genre in movies['genre'].unique():\n",
    "    print(genre, movies[movies['genre']==genre]['Duration'].mean())"
   ]
  },
  {
   "cell_type": "code",
   "execution_count": 68,
   "id": "6d38be3b-794c-4682-bc51-aa65444f2ea1",
   "metadata": {},
   "outputs": [
    {
     "data": {
      "text/plain": [
       "Action        4\n",
       "SciFi         3\n",
       "Comedy        3\n",
       "Romantic      2\n",
       "Drama         2\n",
       "Mystereous    1\n",
       "Name: genre, dtype: int64"
      ]
     },
     "execution_count": 68,
     "metadata": {},
     "output_type": "execute_result"
    }
   ],
   "source": [
    "movies['genre'].value_counts()"
   ]
  },
  {
   "cell_type": "code",
   "execution_count": 69,
   "id": "0896cc63-d424-47ab-875a-3bcae8073f00",
   "metadata": {},
   "outputs": [
    {
     "data": {
      "text/plain": [
       "genre\n",
       "Action        152.500000\n",
       "Comedy        136.666667\n",
       "Drama         165.000000\n",
       "Mystereous    180.000000\n",
       "Romantic      150.000000\n",
       "SciFi         156.666667\n",
       "Name: Duration, dtype: float64"
      ]
     },
     "execution_count": 69,
     "metadata": {},
     "output_type": "execute_result"
    }
   ],
   "source": [
    "movies.groupby('genre')['Duration'].mean()"
   ]
  },
  {
   "cell_type": "code",
   "execution_count": 72,
   "id": "33008761-1bd1-47b1-81c4-676bfc65971d",
   "metadata": {},
   "outputs": [
    {
     "data": {
      "text/plain": [
       "genre       Industry \n",
       "Action      Bollywood    130.000000\n",
       "            Hollywood    180.000000\n",
       "            Tollywood    170.000000\n",
       "Comedy      Bollywood    145.000000\n",
       "            Hollywood    120.000000\n",
       "Drama       Bollywood    150.000000\n",
       "            Hollywood    180.000000\n",
       "Mystereous  Bollywood    180.000000\n",
       "Romantic    Bollywood    150.000000\n",
       "SciFi       Hollywood    156.666667\n",
       "Name: Duration, dtype: float64"
      ]
     },
     "execution_count": 72,
     "metadata": {},
     "output_type": "execute_result"
    }
   ],
   "source": [
    "movies.groupby(['genre','Industry'])['Duration'].mean()"
   ]
  },
  {
   "cell_type": "code",
   "execution_count": 73,
   "id": "f8b36940-67a7-4098-b23b-27f4331bfb64",
   "metadata": {},
   "outputs": [
    {
     "data": {
      "text/plain": [
       "Industry   genre     \n",
       "Bollywood  Action        130.000000\n",
       "           Comedy        145.000000\n",
       "           Drama         150.000000\n",
       "           Mystereous    180.000000\n",
       "           Romantic      150.000000\n",
       "Hollywood  Action        180.000000\n",
       "           Comedy        120.000000\n",
       "           Drama         180.000000\n",
       "           SciFi         156.666667\n",
       "Tollywood  Action        170.000000\n",
       "Name: Duration, dtype: float64"
      ]
     },
     "execution_count": 73,
     "metadata": {},
     "output_type": "execute_result"
    }
   ],
   "source": [
    "movies.groupby(['Industry','genre'])['Duration'].mean()"
   ]
  },
  {
   "cell_type": "code",
   "execution_count": 74,
   "id": "bdf7d173-8126-4f1d-92ec-e99086800fb4",
   "metadata": {},
   "outputs": [
    {
     "data": {
      "text/html": [
       "<div>\n",
       "<style scoped>\n",
       "    .dataframe tbody tr th:only-of-type {\n",
       "        vertical-align: middle;\n",
       "    }\n",
       "\n",
       "    .dataframe tbody tr th {\n",
       "        vertical-align: top;\n",
       "    }\n",
       "\n",
       "    .dataframe thead th {\n",
       "        text-align: right;\n",
       "    }\n",
       "</style>\n",
       "<table border=\"1\" class=\"dataframe\">\n",
       "  <thead>\n",
       "    <tr style=\"text-align: right;\">\n",
       "      <th></th>\n",
       "      <th>Id</th>\n",
       "      <th>Duration</th>\n",
       "      <th>Rating</th>\n",
       "    </tr>\n",
       "  </thead>\n",
       "  <tbody>\n",
       "    <tr>\n",
       "      <th>count</th>\n",
       "      <td>0.0</td>\n",
       "      <td>15.000000</td>\n",
       "      <td>15.000000</td>\n",
       "    </tr>\n",
       "    <tr>\n",
       "      <th>mean</th>\n",
       "      <td>NaN</td>\n",
       "      <td>153.333333</td>\n",
       "      <td>7.833333</td>\n",
       "    </tr>\n",
       "    <tr>\n",
       "      <th>std</th>\n",
       "      <td>NaN</td>\n",
       "      <td>22.253946</td>\n",
       "      <td>1.718249</td>\n",
       "    </tr>\n",
       "    <tr>\n",
       "      <th>min</th>\n",
       "      <td>NaN</td>\n",
       "      <td>120.000000</td>\n",
       "      <td>5.000000</td>\n",
       "    </tr>\n",
       "    <tr>\n",
       "      <th>25%</th>\n",
       "      <td>NaN</td>\n",
       "      <td>140.000000</td>\n",
       "      <td>6.500000</td>\n",
       "    </tr>\n",
       "    <tr>\n",
       "      <th>50%</th>\n",
       "      <td>NaN</td>\n",
       "      <td>150.000000</td>\n",
       "      <td>8.500000</td>\n",
       "    </tr>\n",
       "    <tr>\n",
       "      <th>75%</th>\n",
       "      <td>NaN</td>\n",
       "      <td>175.000000</td>\n",
       "      <td>9.000000</td>\n",
       "    </tr>\n",
       "    <tr>\n",
       "      <th>max</th>\n",
       "      <td>NaN</td>\n",
       "      <td>190.000000</td>\n",
       "      <td>10.000000</td>\n",
       "    </tr>\n",
       "  </tbody>\n",
       "</table>\n",
       "</div>"
      ],
      "text/plain": [
       "        Id    Duration    Rating \n",
       "count  0.0   15.000000  15.000000\n",
       "mean   NaN  153.333333   7.833333\n",
       "std    NaN   22.253946   1.718249\n",
       "min    NaN  120.000000   5.000000\n",
       "25%    NaN  140.000000   6.500000\n",
       "50%    NaN  150.000000   8.500000\n",
       "75%    NaN  175.000000   9.000000\n",
       "max    NaN  190.000000  10.000000"
      ]
     },
     "execution_count": 74,
     "metadata": {},
     "output_type": "execute_result"
    }
   ],
   "source": [
    "movies.describe()"
   ]
  },
  {
   "cell_type": "code",
   "execution_count": 76,
   "id": "0807c8ad-262a-437c-a5de-97323717226c",
   "metadata": {},
   "outputs": [
    {
     "data": {
      "text/html": [
       "<div>\n",
       "<style scoped>\n",
       "    .dataframe tbody tr th:only-of-type {\n",
       "        vertical-align: middle;\n",
       "    }\n",
       "\n",
       "    .dataframe tbody tr th {\n",
       "        vertical-align: top;\n",
       "    }\n",
       "\n",
       "    .dataframe thead th {\n",
       "        text-align: right;\n",
       "    }\n",
       "</style>\n",
       "<table border=\"1\" class=\"dataframe\">\n",
       "  <thead>\n",
       "    <tr style=\"text-align: right;\">\n",
       "      <th></th>\n",
       "      <th>Id</th>\n",
       "      <th>Name</th>\n",
       "      <th>Industry</th>\n",
       "      <th>genre</th>\n",
       "      <th>Language</th>\n",
       "      <th>Duration</th>\n",
       "      <th>Rating</th>\n",
       "    </tr>\n",
       "  </thead>\n",
       "  <tbody>\n",
       "    <tr>\n",
       "      <th>0</th>\n",
       "      <td>NaN</td>\n",
       "      <td>Bahubali</td>\n",
       "      <td>Tollywood</td>\n",
       "      <td>Action</td>\n",
       "      <td>Telugu</td>\n",
       "      <td>170</td>\n",
       "      <td>9.5</td>\n",
       "    </tr>\n",
       "    <tr>\n",
       "      <th>1</th>\n",
       "      <td>NaN</td>\n",
       "      <td>Brahmastra</td>\n",
       "      <td>Bollywood</td>\n",
       "      <td>Mystereous</td>\n",
       "      <td>Hindi</td>\n",
       "      <td>180</td>\n",
       "      <td>5.0</td>\n",
       "    </tr>\n",
       "    <tr>\n",
       "      <th>2</th>\n",
       "      <td>NaN</td>\n",
       "      <td>uri -the surgical strike</td>\n",
       "      <td>Bollywood</td>\n",
       "      <td>Action</td>\n",
       "      <td>Hindi</td>\n",
       "      <td>120</td>\n",
       "      <td>10.0</td>\n",
       "    </tr>\n",
       "    <tr>\n",
       "      <th>3</th>\n",
       "      <td>NaN</td>\n",
       "      <td>DDLJ</td>\n",
       "      <td>Bollywood</td>\n",
       "      <td>Romantic</td>\n",
       "      <td>Hindi</td>\n",
       "      <td>150</td>\n",
       "      <td>10.0</td>\n",
       "    </tr>\n",
       "    <tr>\n",
       "      <th>4</th>\n",
       "      <td>NaN</td>\n",
       "      <td>Avengers-End of game</td>\n",
       "      <td>Hollywood</td>\n",
       "      <td>Action</td>\n",
       "      <td>English</td>\n",
       "      <td>180</td>\n",
       "      <td>9.0</td>\n",
       "    </tr>\n",
       "  </tbody>\n",
       "</table>\n",
       "</div>"
      ],
      "text/plain": [
       "   Id                      Name   Industry       genre Language  Duration  \\\n",
       "0 NaN                  Bahubali  Tollywood      Action   Telugu       170   \n",
       "1 NaN                Brahmastra  Bollywood  Mystereous    Hindi       180   \n",
       "2 NaN  uri -the surgical strike  Bollywood      Action    Hindi       120   \n",
       "3 NaN                      DDLJ  Bollywood    Romantic    Hindi       150   \n",
       "4 NaN      Avengers-End of game  Hollywood      Action  English       180   \n",
       "\n",
       "   Rating   \n",
       "0      9.5  \n",
       "1      5.0  \n",
       "2     10.0  \n",
       "3     10.0  \n",
       "4      9.0  "
      ]
     },
     "execution_count": 76,
     "metadata": {},
     "output_type": "execute_result"
    }
   ],
   "source": [
    "movies.head()"
   ]
  },
  {
   "cell_type": "code",
   "execution_count": 78,
   "id": "89e85707-ae71-4e2c-a0e7-2102f880e06c",
   "metadata": {},
   "outputs": [],
   "source": [
    "movies.drop(['Id'],axis=1, inplace=True)"
   ]
  },
  {
   "cell_type": "code",
   "execution_count": 79,
   "id": "4ae4f8c3-7be7-4212-89f1-eb1d389b2b8b",
   "metadata": {},
   "outputs": [
    {
     "data": {
      "text/html": [
       "<div>\n",
       "<style scoped>\n",
       "    .dataframe tbody tr th:only-of-type {\n",
       "        vertical-align: middle;\n",
       "    }\n",
       "\n",
       "    .dataframe tbody tr th {\n",
       "        vertical-align: top;\n",
       "    }\n",
       "\n",
       "    .dataframe thead th {\n",
       "        text-align: right;\n",
       "    }\n",
       "</style>\n",
       "<table border=\"1\" class=\"dataframe\">\n",
       "  <thead>\n",
       "    <tr style=\"text-align: right;\">\n",
       "      <th></th>\n",
       "      <th>Name</th>\n",
       "      <th>Industry</th>\n",
       "      <th>genre</th>\n",
       "      <th>Language</th>\n",
       "      <th>Duration</th>\n",
       "      <th>Rating</th>\n",
       "    </tr>\n",
       "  </thead>\n",
       "  <tbody>\n",
       "    <tr>\n",
       "      <th>0</th>\n",
       "      <td>Bahubali</td>\n",
       "      <td>Tollywood</td>\n",
       "      <td>Action</td>\n",
       "      <td>Telugu</td>\n",
       "      <td>170</td>\n",
       "      <td>9.5</td>\n",
       "    </tr>\n",
       "    <tr>\n",
       "      <th>1</th>\n",
       "      <td>Brahmastra</td>\n",
       "      <td>Bollywood</td>\n",
       "      <td>Mystereous</td>\n",
       "      <td>Hindi</td>\n",
       "      <td>180</td>\n",
       "      <td>5.0</td>\n",
       "    </tr>\n",
       "    <tr>\n",
       "      <th>2</th>\n",
       "      <td>uri -the surgical strike</td>\n",
       "      <td>Bollywood</td>\n",
       "      <td>Action</td>\n",
       "      <td>Hindi</td>\n",
       "      <td>120</td>\n",
       "      <td>10.0</td>\n",
       "    </tr>\n",
       "    <tr>\n",
       "      <th>3</th>\n",
       "      <td>DDLJ</td>\n",
       "      <td>Bollywood</td>\n",
       "      <td>Romantic</td>\n",
       "      <td>Hindi</td>\n",
       "      <td>150</td>\n",
       "      <td>10.0</td>\n",
       "    </tr>\n",
       "    <tr>\n",
       "      <th>4</th>\n",
       "      <td>Avengers-End of game</td>\n",
       "      <td>Hollywood</td>\n",
       "      <td>Action</td>\n",
       "      <td>English</td>\n",
       "      <td>180</td>\n",
       "      <td>9.0</td>\n",
       "    </tr>\n",
       "    <tr>\n",
       "      <th>5</th>\n",
       "      <td>Tenet</td>\n",
       "      <td>Hollywood</td>\n",
       "      <td>SciFi</td>\n",
       "      <td>English</td>\n",
       "      <td>150</td>\n",
       "      <td>8.5</td>\n",
       "    </tr>\n",
       "    <tr>\n",
       "      <th>6</th>\n",
       "      <td>Major</td>\n",
       "      <td>Bollywood</td>\n",
       "      <td>Action</td>\n",
       "      <td>Hindi</td>\n",
       "      <td>140</td>\n",
       "      <td>8.0</td>\n",
       "    </tr>\n",
       "    <tr>\n",
       "      <th>7</th>\n",
       "      <td>Intersteller</td>\n",
       "      <td>Hollywood</td>\n",
       "      <td>SciFi</td>\n",
       "      <td>English</td>\n",
       "      <td>190</td>\n",
       "      <td>7.0</td>\n",
       "    </tr>\n",
       "    <tr>\n",
       "      <th>8</th>\n",
       "      <td>Gravity</td>\n",
       "      <td>Hollywood</td>\n",
       "      <td>SciFi</td>\n",
       "      <td>English</td>\n",
       "      <td>130</td>\n",
       "      <td>6.0</td>\n",
       "    </tr>\n",
       "    <tr>\n",
       "      <th>9</th>\n",
       "      <td>Titanic</td>\n",
       "      <td>Hollywood</td>\n",
       "      <td>Drama</td>\n",
       "      <td>English</td>\n",
       "      <td>180</td>\n",
       "      <td>9.0</td>\n",
       "    </tr>\n",
       "    <tr>\n",
       "      <th>10</th>\n",
       "      <td>Yeh jawani Hai Deewani</td>\n",
       "      <td>Bollywood</td>\n",
       "      <td>Romantic</td>\n",
       "      <td>Hindi</td>\n",
       "      <td>150</td>\n",
       "      <td>5.0</td>\n",
       "    </tr>\n",
       "    <tr>\n",
       "      <th>11</th>\n",
       "      <td>Housefull</td>\n",
       "      <td>Bollywood</td>\n",
       "      <td>Comedy</td>\n",
       "      <td>Hindi</td>\n",
       "      <td>150</td>\n",
       "      <td>6.0</td>\n",
       "    </tr>\n",
       "    <tr>\n",
       "      <th>12</th>\n",
       "      <td>The Dictator</td>\n",
       "      <td>Hollywood</td>\n",
       "      <td>Comedy</td>\n",
       "      <td>English</td>\n",
       "      <td>120</td>\n",
       "      <td>7.0</td>\n",
       "    </tr>\n",
       "    <tr>\n",
       "      <th>13</th>\n",
       "      <td>Hera pheri</td>\n",
       "      <td>Bollywood</td>\n",
       "      <td>Comedy</td>\n",
       "      <td>Hindi</td>\n",
       "      <td>140</td>\n",
       "      <td>9.0</td>\n",
       "    </tr>\n",
       "    <tr>\n",
       "      <th>14</th>\n",
       "      <td>Sholay</td>\n",
       "      <td>Bollywood</td>\n",
       "      <td>Drama</td>\n",
       "      <td>Hindi</td>\n",
       "      <td>150</td>\n",
       "      <td>8.5</td>\n",
       "    </tr>\n",
       "  </tbody>\n",
       "</table>\n",
       "</div>"
      ],
      "text/plain": [
       "                        Name   Industry       genre Language  Duration  \\\n",
       "0                   Bahubali  Tollywood      Action   Telugu       170   \n",
       "1                 Brahmastra  Bollywood  Mystereous    Hindi       180   \n",
       "2   uri -the surgical strike  Bollywood      Action    Hindi       120   \n",
       "3                       DDLJ  Bollywood    Romantic    Hindi       150   \n",
       "4       Avengers-End of game  Hollywood      Action  English       180   \n",
       "5                      Tenet  Hollywood       SciFi  English       150   \n",
       "6                      Major  Bollywood      Action    Hindi       140   \n",
       "7               Intersteller  Hollywood       SciFi  English       190   \n",
       "8                    Gravity  Hollywood       SciFi  English       130   \n",
       "9                    Titanic  Hollywood       Drama  English       180   \n",
       "10    Yeh jawani Hai Deewani  Bollywood    Romantic    Hindi       150   \n",
       "11                 Housefull  Bollywood      Comedy    Hindi       150   \n",
       "12              The Dictator  Hollywood      Comedy  English       120   \n",
       "13                Hera pheri  Bollywood      Comedy    Hindi       140   \n",
       "14                    Sholay  Bollywood       Drama    Hindi       150   \n",
       "\n",
       "    Rating   \n",
       "0       9.5  \n",
       "1       5.0  \n",
       "2      10.0  \n",
       "3      10.0  \n",
       "4       9.0  \n",
       "5       8.5  \n",
       "6       8.0  \n",
       "7       7.0  \n",
       "8       6.0  \n",
       "9       9.0  \n",
       "10      5.0  \n",
       "11      6.0  \n",
       "12      7.0  \n",
       "13      9.0  \n",
       "14      8.5  "
      ]
     },
     "execution_count": 79,
     "metadata": {},
     "output_type": "execute_result"
    }
   ],
   "source": [
    "movies"
   ]
  },
  {
   "cell_type": "code",
   "execution_count": 83,
   "id": "ec442f8d-9352-49d8-befd-c94c91d805c9",
   "metadata": {},
   "outputs": [
    {
     "name": "stdout",
     "output_type": "stream",
     "text": [
      "<class 'pandas.core.frame.DataFrame'>\n",
      "RangeIndex: 15 entries, 0 to 14\n",
      "Data columns (total 6 columns):\n",
      " #   Column    Non-Null Count  Dtype  \n",
      "---  ------    --------------  -----  \n",
      " 0   Name      15 non-null     object \n",
      " 1   Industry  15 non-null     object \n",
      " 2   genre     15 non-null     object \n",
      " 3   Language  15 non-null     object \n",
      " 4   Duration  15 non-null     int64  \n",
      " 5   Rating    15 non-null     float64\n",
      "dtypes: float64(1), int64(1), object(4)\n",
      "memory usage: 848.0+ bytes\n"
     ]
    }
   ],
   "source": [
    "movies.info()"
   ]
  },
  {
   "cell_type": "code",
   "execution_count": 84,
   "id": "abf318d8-f7c1-4701-bb25-3fd8942844b6",
   "metadata": {},
   "outputs": [
    {
     "data": {
      "text/html": [
       "<div>\n",
       "<style scoped>\n",
       "    .dataframe tbody tr th:only-of-type {\n",
       "        vertical-align: middle;\n",
       "    }\n",
       "\n",
       "    .dataframe tbody tr th {\n",
       "        vertical-align: top;\n",
       "    }\n",
       "\n",
       "    .dataframe thead th {\n",
       "        text-align: right;\n",
       "    }\n",
       "</style>\n",
       "<table border=\"1\" class=\"dataframe\">\n",
       "  <thead>\n",
       "    <tr style=\"text-align: right;\">\n",
       "      <th></th>\n",
       "      <th>Name</th>\n",
       "      <th>Industry</th>\n",
       "      <th>genre</th>\n",
       "      <th>Language</th>\n",
       "      <th>Duration</th>\n",
       "      <th>Rating</th>\n",
       "    </tr>\n",
       "  </thead>\n",
       "  <tbody>\n",
       "    <tr>\n",
       "      <th>count</th>\n",
       "      <td>15</td>\n",
       "      <td>15</td>\n",
       "      <td>15</td>\n",
       "      <td>15</td>\n",
       "      <td>15.000000</td>\n",
       "      <td>15.000000</td>\n",
       "    </tr>\n",
       "    <tr>\n",
       "      <th>unique</th>\n",
       "      <td>15</td>\n",
       "      <td>3</td>\n",
       "      <td>6</td>\n",
       "      <td>3</td>\n",
       "      <td>NaN</td>\n",
       "      <td>NaN</td>\n",
       "    </tr>\n",
       "    <tr>\n",
       "      <th>top</th>\n",
       "      <td>Bahubali</td>\n",
       "      <td>Bollywood</td>\n",
       "      <td>Action</td>\n",
       "      <td>Hindi</td>\n",
       "      <td>NaN</td>\n",
       "      <td>NaN</td>\n",
       "    </tr>\n",
       "    <tr>\n",
       "      <th>freq</th>\n",
       "      <td>1</td>\n",
       "      <td>8</td>\n",
       "      <td>4</td>\n",
       "      <td>8</td>\n",
       "      <td>NaN</td>\n",
       "      <td>NaN</td>\n",
       "    </tr>\n",
       "    <tr>\n",
       "      <th>mean</th>\n",
       "      <td>NaN</td>\n",
       "      <td>NaN</td>\n",
       "      <td>NaN</td>\n",
       "      <td>NaN</td>\n",
       "      <td>153.333333</td>\n",
       "      <td>7.833333</td>\n",
       "    </tr>\n",
       "    <tr>\n",
       "      <th>std</th>\n",
       "      <td>NaN</td>\n",
       "      <td>NaN</td>\n",
       "      <td>NaN</td>\n",
       "      <td>NaN</td>\n",
       "      <td>22.253946</td>\n",
       "      <td>1.718249</td>\n",
       "    </tr>\n",
       "    <tr>\n",
       "      <th>min</th>\n",
       "      <td>NaN</td>\n",
       "      <td>NaN</td>\n",
       "      <td>NaN</td>\n",
       "      <td>NaN</td>\n",
       "      <td>120.000000</td>\n",
       "      <td>5.000000</td>\n",
       "    </tr>\n",
       "    <tr>\n",
       "      <th>25%</th>\n",
       "      <td>NaN</td>\n",
       "      <td>NaN</td>\n",
       "      <td>NaN</td>\n",
       "      <td>NaN</td>\n",
       "      <td>140.000000</td>\n",
       "      <td>6.500000</td>\n",
       "    </tr>\n",
       "    <tr>\n",
       "      <th>50%</th>\n",
       "      <td>NaN</td>\n",
       "      <td>NaN</td>\n",
       "      <td>NaN</td>\n",
       "      <td>NaN</td>\n",
       "      <td>150.000000</td>\n",
       "      <td>8.500000</td>\n",
       "    </tr>\n",
       "    <tr>\n",
       "      <th>75%</th>\n",
       "      <td>NaN</td>\n",
       "      <td>NaN</td>\n",
       "      <td>NaN</td>\n",
       "      <td>NaN</td>\n",
       "      <td>175.000000</td>\n",
       "      <td>9.000000</td>\n",
       "    </tr>\n",
       "    <tr>\n",
       "      <th>max</th>\n",
       "      <td>NaN</td>\n",
       "      <td>NaN</td>\n",
       "      <td>NaN</td>\n",
       "      <td>NaN</td>\n",
       "      <td>190.000000</td>\n",
       "      <td>10.000000</td>\n",
       "    </tr>\n",
       "  </tbody>\n",
       "</table>\n",
       "</div>"
      ],
      "text/plain": [
       "            Name   Industry   genre Language    Duration    Rating \n",
       "count         15         15      15       15   15.000000  15.000000\n",
       "unique        15          3       6        3         NaN        NaN\n",
       "top     Bahubali  Bollywood  Action    Hindi         NaN        NaN\n",
       "freq           1          8       4        8         NaN        NaN\n",
       "mean         NaN        NaN     NaN      NaN  153.333333   7.833333\n",
       "std          NaN        NaN     NaN      NaN   22.253946   1.718249\n",
       "min          NaN        NaN     NaN      NaN  120.000000   5.000000\n",
       "25%          NaN        NaN     NaN      NaN  140.000000   6.500000\n",
       "50%          NaN        NaN     NaN      NaN  150.000000   8.500000\n",
       "75%          NaN        NaN     NaN      NaN  175.000000   9.000000\n",
       "max          NaN        NaN     NaN      NaN  190.000000  10.000000"
      ]
     },
     "execution_count": 84,
     "metadata": {},
     "output_type": "execute_result"
    }
   ],
   "source": [
    "movies.describe(include='all')"
   ]
  },
  {
   "cell_type": "code",
   "execution_count": 85,
   "id": "e3e82a49-96c1-4af3-b35c-b65545bd2c63",
   "metadata": {},
   "outputs": [
    {
     "data": {
      "text/html": [
       "<div>\n",
       "<style scoped>\n",
       "    .dataframe tbody tr th:only-of-type {\n",
       "        vertical-align: middle;\n",
       "    }\n",
       "\n",
       "    .dataframe tbody tr th {\n",
       "        vertical-align: top;\n",
       "    }\n",
       "\n",
       "    .dataframe thead th {\n",
       "        text-align: right;\n",
       "    }\n",
       "</style>\n",
       "<table border=\"1\" class=\"dataframe\">\n",
       "  <thead>\n",
       "    <tr style=\"text-align: right;\">\n",
       "      <th></th>\n",
       "      <th>genre</th>\n",
       "      <th>Action</th>\n",
       "      <th>Comedy</th>\n",
       "      <th>Drama</th>\n",
       "      <th>Mystereous</th>\n",
       "      <th>Romantic</th>\n",
       "      <th>SciFi</th>\n",
       "    </tr>\n",
       "  </thead>\n",
       "  <tbody>\n",
       "    <tr>\n",
       "      <th rowspan=\"8\" valign=\"top\">Duration</th>\n",
       "      <th>count</th>\n",
       "      <td>4.000000</td>\n",
       "      <td>3.000000</td>\n",
       "      <td>2.000000</td>\n",
       "      <td>1.0</td>\n",
       "      <td>2.000000</td>\n",
       "      <td>3.000000</td>\n",
       "    </tr>\n",
       "    <tr>\n",
       "      <th>mean</th>\n",
       "      <td>152.500000</td>\n",
       "      <td>136.666667</td>\n",
       "      <td>165.000000</td>\n",
       "      <td>180.0</td>\n",
       "      <td>150.000000</td>\n",
       "      <td>156.666667</td>\n",
       "    </tr>\n",
       "    <tr>\n",
       "      <th>std</th>\n",
       "      <td>27.537853</td>\n",
       "      <td>15.275252</td>\n",
       "      <td>21.213203</td>\n",
       "      <td>NaN</td>\n",
       "      <td>0.000000</td>\n",
       "      <td>30.550505</td>\n",
       "    </tr>\n",
       "    <tr>\n",
       "      <th>min</th>\n",
       "      <td>120.000000</td>\n",
       "      <td>120.000000</td>\n",
       "      <td>150.000000</td>\n",
       "      <td>180.0</td>\n",
       "      <td>150.000000</td>\n",
       "      <td>130.000000</td>\n",
       "    </tr>\n",
       "    <tr>\n",
       "      <th>25%</th>\n",
       "      <td>135.000000</td>\n",
       "      <td>130.000000</td>\n",
       "      <td>157.500000</td>\n",
       "      <td>180.0</td>\n",
       "      <td>150.000000</td>\n",
       "      <td>140.000000</td>\n",
       "    </tr>\n",
       "    <tr>\n",
       "      <th>50%</th>\n",
       "      <td>155.000000</td>\n",
       "      <td>140.000000</td>\n",
       "      <td>165.000000</td>\n",
       "      <td>180.0</td>\n",
       "      <td>150.000000</td>\n",
       "      <td>150.000000</td>\n",
       "    </tr>\n",
       "    <tr>\n",
       "      <th>75%</th>\n",
       "      <td>172.500000</td>\n",
       "      <td>145.000000</td>\n",
       "      <td>172.500000</td>\n",
       "      <td>180.0</td>\n",
       "      <td>150.000000</td>\n",
       "      <td>170.000000</td>\n",
       "    </tr>\n",
       "    <tr>\n",
       "      <th>max</th>\n",
       "      <td>180.000000</td>\n",
       "      <td>150.000000</td>\n",
       "      <td>180.000000</td>\n",
       "      <td>180.0</td>\n",
       "      <td>150.000000</td>\n",
       "      <td>190.000000</td>\n",
       "    </tr>\n",
       "    <tr>\n",
       "      <th rowspan=\"8\" valign=\"top\">Rating</th>\n",
       "      <th>count</th>\n",
       "      <td>4.000000</td>\n",
       "      <td>3.000000</td>\n",
       "      <td>2.000000</td>\n",
       "      <td>1.0</td>\n",
       "      <td>2.000000</td>\n",
       "      <td>3.000000</td>\n",
       "    </tr>\n",
       "    <tr>\n",
       "      <th>mean</th>\n",
       "      <td>9.125000</td>\n",
       "      <td>7.333333</td>\n",
       "      <td>8.750000</td>\n",
       "      <td>5.0</td>\n",
       "      <td>7.500000</td>\n",
       "      <td>7.166667</td>\n",
       "    </tr>\n",
       "    <tr>\n",
       "      <th>std</th>\n",
       "      <td>0.853913</td>\n",
       "      <td>1.527525</td>\n",
       "      <td>0.353553</td>\n",
       "      <td>NaN</td>\n",
       "      <td>3.535534</td>\n",
       "      <td>1.258306</td>\n",
       "    </tr>\n",
       "    <tr>\n",
       "      <th>min</th>\n",
       "      <td>8.000000</td>\n",
       "      <td>6.000000</td>\n",
       "      <td>8.500000</td>\n",
       "      <td>5.0</td>\n",
       "      <td>5.000000</td>\n",
       "      <td>6.000000</td>\n",
       "    </tr>\n",
       "    <tr>\n",
       "      <th>25%</th>\n",
       "      <td>8.750000</td>\n",
       "      <td>6.500000</td>\n",
       "      <td>8.625000</td>\n",
       "      <td>5.0</td>\n",
       "      <td>6.250000</td>\n",
       "      <td>6.500000</td>\n",
       "    </tr>\n",
       "    <tr>\n",
       "      <th>50%</th>\n",
       "      <td>9.250000</td>\n",
       "      <td>7.000000</td>\n",
       "      <td>8.750000</td>\n",
       "      <td>5.0</td>\n",
       "      <td>7.500000</td>\n",
       "      <td>7.000000</td>\n",
       "    </tr>\n",
       "    <tr>\n",
       "      <th>75%</th>\n",
       "      <td>9.625000</td>\n",
       "      <td>8.000000</td>\n",
       "      <td>8.875000</td>\n",
       "      <td>5.0</td>\n",
       "      <td>8.750000</td>\n",
       "      <td>7.750000</td>\n",
       "    </tr>\n",
       "    <tr>\n",
       "      <th>max</th>\n",
       "      <td>10.000000</td>\n",
       "      <td>9.000000</td>\n",
       "      <td>9.000000</td>\n",
       "      <td>5.0</td>\n",
       "      <td>10.000000</td>\n",
       "      <td>8.500000</td>\n",
       "    </tr>\n",
       "  </tbody>\n",
       "</table>\n",
       "</div>"
      ],
      "text/plain": [
       "genre               Action      Comedy       Drama  Mystereous    Romantic  \\\n",
       "Duration count    4.000000    3.000000    2.000000         1.0    2.000000   \n",
       "         mean   152.500000  136.666667  165.000000       180.0  150.000000   \n",
       "         std     27.537853   15.275252   21.213203         NaN    0.000000   \n",
       "         min    120.000000  120.000000  150.000000       180.0  150.000000   \n",
       "         25%    135.000000  130.000000  157.500000       180.0  150.000000   \n",
       "         50%    155.000000  140.000000  165.000000       180.0  150.000000   \n",
       "         75%    172.500000  145.000000  172.500000       180.0  150.000000   \n",
       "         max    180.000000  150.000000  180.000000       180.0  150.000000   \n",
       "Rating   count    4.000000    3.000000    2.000000         1.0    2.000000   \n",
       "         mean     9.125000    7.333333    8.750000         5.0    7.500000   \n",
       "         std      0.853913    1.527525    0.353553         NaN    3.535534   \n",
       "         min      8.000000    6.000000    8.500000         5.0    5.000000   \n",
       "         25%      8.750000    6.500000    8.625000         5.0    6.250000   \n",
       "         50%      9.250000    7.000000    8.750000         5.0    7.500000   \n",
       "         75%      9.625000    8.000000    8.875000         5.0    8.750000   \n",
       "         max     10.000000    9.000000    9.000000         5.0   10.000000   \n",
       "\n",
       "genre                SciFi  \n",
       "Duration count    3.000000  \n",
       "         mean   156.666667  \n",
       "         std     30.550505  \n",
       "         min    130.000000  \n",
       "         25%    140.000000  \n",
       "         50%    150.000000  \n",
       "         75%    170.000000  \n",
       "         max    190.000000  \n",
       "Rating   count    3.000000  \n",
       "         mean     7.166667  \n",
       "         std      1.258306  \n",
       "         min      6.000000  \n",
       "         25%      6.500000  \n",
       "         50%      7.000000  \n",
       "         75%      7.750000  \n",
       "         max      8.500000  "
      ]
     },
     "execution_count": 85,
     "metadata": {},
     "output_type": "execute_result"
    }
   ],
   "source": [
    "movies.groupby('genre').describe().T"
   ]
  },
  {
   "cell_type": "markdown",
   "id": "5700c283-534d-41ee-bcef-06b5d61ad1df",
   "metadata": {},
   "source": [
    "# q8"
   ]
  },
  {
   "cell_type": "code",
   "execution_count": 94,
   "id": "8a2e6757-c308-46c1-ade0-dbf584b76d37",
   "metadata": {},
   "outputs": [
    {
     "ename": "KeyError",
     "evalue": "'Column not found: Rating'",
     "output_type": "error",
     "traceback": [
      "\u001b[1;31m---------------------------------------------------------------------------\u001b[0m",
      "\u001b[1;31mKeyError\u001b[0m                                  Traceback (most recent call last)",
      "Input \u001b[1;32mIn [94]\u001b[0m, in \u001b[0;36m<cell line: 1>\u001b[1;34m()\u001b[0m\n\u001b[1;32m----> 1\u001b[0m \u001b[43mmovies\u001b[49m\u001b[38;5;241;43m.\u001b[39;49m\u001b[43mgroupby\u001b[49m\u001b[43m(\u001b[49m\u001b[38;5;124;43m'\u001b[39;49m\u001b[38;5;124;43mIndustry\u001b[39;49m\u001b[38;5;124;43m'\u001b[39;49m\u001b[43m)\u001b[49m\u001b[43m[\u001b[49m\u001b[38;5;124;43m'\u001b[39;49m\u001b[38;5;124;43mRating\u001b[39;49m\u001b[38;5;124;43m'\u001b[39;49m\u001b[43m]\u001b[49m\u001b[38;5;241m.\u001b[39mmean()\n",
      "File \u001b[1;32m~\\anaconda3\\lib\\site-packages\\pandas\\core\\groupby\\generic.py:1338\u001b[0m, in \u001b[0;36mDataFrameGroupBy.__getitem__\u001b[1;34m(self, key)\u001b[0m\n\u001b[0;32m   1329\u001b[0m \u001b[38;5;28;01mif\u001b[39;00m \u001b[38;5;28misinstance\u001b[39m(key, \u001b[38;5;28mtuple\u001b[39m) \u001b[38;5;129;01mand\u001b[39;00m \u001b[38;5;28mlen\u001b[39m(key) \u001b[38;5;241m>\u001b[39m \u001b[38;5;241m1\u001b[39m:\n\u001b[0;32m   1330\u001b[0m     \u001b[38;5;66;03m# if len == 1, then it becomes a SeriesGroupBy and this is actually\u001b[39;00m\n\u001b[0;32m   1331\u001b[0m     \u001b[38;5;66;03m# valid syntax, so don't raise warning\u001b[39;00m\n\u001b[0;32m   1332\u001b[0m     warnings\u001b[38;5;241m.\u001b[39mwarn(\n\u001b[0;32m   1333\u001b[0m         \u001b[38;5;124m\"\u001b[39m\u001b[38;5;124mIndexing with multiple keys (implicitly converted to a tuple \u001b[39m\u001b[38;5;124m\"\u001b[39m\n\u001b[0;32m   1334\u001b[0m         \u001b[38;5;124m\"\u001b[39m\u001b[38;5;124mof keys) will be deprecated, use a list instead.\u001b[39m\u001b[38;5;124m\"\u001b[39m,\n\u001b[0;32m   1335\u001b[0m         \u001b[38;5;167;01mFutureWarning\u001b[39;00m,\n\u001b[0;32m   1336\u001b[0m         stacklevel\u001b[38;5;241m=\u001b[39mfind_stack_level(),\n\u001b[0;32m   1337\u001b[0m     )\n\u001b[1;32m-> 1338\u001b[0m \u001b[38;5;28;01mreturn\u001b[39;00m \u001b[38;5;28;43msuper\u001b[39;49m\u001b[43m(\u001b[49m\u001b[43m)\u001b[49m\u001b[38;5;241;43m.\u001b[39;49m\u001b[38;5;21;43m__getitem__\u001b[39;49m\u001b[43m(\u001b[49m\u001b[43mkey\u001b[49m\u001b[43m)\u001b[49m\n",
      "File \u001b[1;32m~\\anaconda3\\lib\\site-packages\\pandas\\core\\base.py:250\u001b[0m, in \u001b[0;36mSelectionMixin.__getitem__\u001b[1;34m(self, key)\u001b[0m\n\u001b[0;32m    248\u001b[0m \u001b[38;5;28;01melse\u001b[39;00m:\n\u001b[0;32m    249\u001b[0m     \u001b[38;5;28;01mif\u001b[39;00m key \u001b[38;5;129;01mnot\u001b[39;00m \u001b[38;5;129;01min\u001b[39;00m \u001b[38;5;28mself\u001b[39m\u001b[38;5;241m.\u001b[39mobj:\n\u001b[1;32m--> 250\u001b[0m         \u001b[38;5;28;01mraise\u001b[39;00m \u001b[38;5;167;01mKeyError\u001b[39;00m(\u001b[38;5;124mf\u001b[39m\u001b[38;5;124m\"\u001b[39m\u001b[38;5;124mColumn not found: \u001b[39m\u001b[38;5;132;01m{\u001b[39;00mkey\u001b[38;5;132;01m}\u001b[39;00m\u001b[38;5;124m\"\u001b[39m)\n\u001b[0;32m    251\u001b[0m     subset \u001b[38;5;241m=\u001b[39m \u001b[38;5;28mself\u001b[39m\u001b[38;5;241m.\u001b[39mobj[key]\n\u001b[0;32m    252\u001b[0m     ndim \u001b[38;5;241m=\u001b[39m subset\u001b[38;5;241m.\u001b[39mndim\n",
      "\u001b[1;31mKeyError\u001b[0m: 'Column not found: Rating'"
     ]
    }
   ],
   "source": [
    "movies.groupby('Industry')['Rating'].mean()"
   ]
  },
  {
   "cell_type": "markdown",
   "id": "327b6f21-6cda-4281-86fc-bcc85c19c479",
   "metadata": {},
   "source": [
    "# q9"
   ]
  },
  {
   "cell_type": "code",
   "execution_count": 99,
   "id": "48fca0d9-ed0f-46dc-9ddc-a34d3ed506d1",
   "metadata": {},
   "outputs": [
    {
     "ename": "NameError",
     "evalue": "name 'vies' is not defined",
     "output_type": "error",
     "traceback": [
      "\u001b[1;31m---------------------------------------------------------------------------\u001b[0m",
      "\u001b[1;31mNameError\u001b[0m                                 Traceback (most recent call last)",
      "Input \u001b[1;32mIn [99]\u001b[0m, in \u001b[0;36m<cell line: 1>\u001b[1;34m()\u001b[0m\n\u001b[1;32m----> 1\u001b[0m \u001b[43mvies\u001b[49m[movies[\u001b[38;5;124m'\u001b[39m\u001b[38;5;124mgenre\u001b[39m\u001b[38;5;124m'\u001b[39m]\u001b[38;5;241m.\u001b[39mstr\u001b[38;5;241m.\u001b[39mlower()\u001b[38;5;241m==\u001b[39m\u001b[38;5;124m'\u001b[39m\u001b[38;5;124mRomantic\u001b[39m\u001b[38;5;124m'\u001b[39m]\u001b[38;5;241m.\u001b[39mgroupby(\u001b[38;5;124m'\u001b[39m\u001b[38;5;124mIndustry\u001b[39m\u001b[38;5;124m'\u001b[39m)[\u001b[38;5;124m'\u001b[39m\u001b[38;5;124mRating\u001b[39m\u001b[38;5;124m'\u001b[39m]\u001b[38;5;241m.\u001b[39mmean()\n",
      "\u001b[1;31mNameError\u001b[0m: name 'vies' is not defined"
     ]
    }
   ],
   "source": [
    "movies[movies['genre'].str.lower()=='Romantic'].groupby('Industry')['Rating'].mean()"
   ]
  },
  {
   "cell_type": "markdown",
   "id": "488bceb1-808b-4f70-9985-83058b9f5e5e",
   "metadata": {},
   "source": [
    "# q10"
   ]
  },
  {
   "cell_type": "code",
   "execution_count": 100,
   "id": "f1361b7a-ee29-4519-bea5-b193022c122c",
   "metadata": {},
   "outputs": [
    {
     "ename": "KeyError",
     "evalue": "\"['Rating'] not in index\"",
     "output_type": "error",
     "traceback": [
      "\u001b[1;31m---------------------------------------------------------------------------\u001b[0m",
      "\u001b[1;31mKeyError\u001b[0m                                  Traceback (most recent call last)",
      "Input \u001b[1;32mIn [100]\u001b[0m, in \u001b[0;36m<cell line: 1>\u001b[1;34m()\u001b[0m\n\u001b[1;32m----> 1\u001b[0m \u001b[43mmovies\u001b[49m\u001b[43m[\u001b[49m\u001b[43mmovies\u001b[49m\u001b[43m[\u001b[49m\u001b[38;5;124;43m'\u001b[39;49m\u001b[38;5;124;43mLanguage\u001b[39;49m\u001b[38;5;124;43m'\u001b[39;49m\u001b[43m]\u001b[49m\u001b[38;5;241;43m.\u001b[39;49m\u001b[43mstr\u001b[49m\u001b[38;5;241;43m.\u001b[39;49m\u001b[43mlower\u001b[49m\u001b[43m(\u001b[49m\u001b[43m)\u001b[49m\u001b[38;5;241;43m==\u001b[39;49m\u001b[38;5;124;43m'\u001b[39;49m\u001b[38;5;124;43mEnglish\u001b[39;49m\u001b[38;5;124;43m'\u001b[39;49m\u001b[43m]\u001b[49m\u001b[43m[\u001b[49m\u001b[43m[\u001b[49m\u001b[38;5;124;43m'\u001b[39;49m\u001b[38;5;124;43mName\u001b[39;49m\u001b[38;5;124;43m'\u001b[39;49m\u001b[43m,\u001b[49m\u001b[38;5;124;43m'\u001b[39;49m\u001b[38;5;124;43mRating\u001b[39;49m\u001b[38;5;124;43m'\u001b[39;49m\u001b[43m]\u001b[49m\u001b[43m]\u001b[49m\u001b[38;5;241m.\u001b[39msort_values(by\u001b[38;5;241m=\u001b[39m\u001b[38;5;124m'\u001b[39m\u001b[38;5;124mRating\u001b[39m\u001b[38;5;124m'\u001b[39m, ascending\u001b[38;5;241m=\u001b[39m\u001b[38;5;28;01mFalse\u001b[39;00m)\n",
      "File \u001b[1;32m~\\anaconda3\\lib\\site-packages\\pandas\\core\\frame.py:3511\u001b[0m, in \u001b[0;36mDataFrame.__getitem__\u001b[1;34m(self, key)\u001b[0m\n\u001b[0;32m   3509\u001b[0m     \u001b[38;5;28;01mif\u001b[39;00m is_iterator(key):\n\u001b[0;32m   3510\u001b[0m         key \u001b[38;5;241m=\u001b[39m \u001b[38;5;28mlist\u001b[39m(key)\n\u001b[1;32m-> 3511\u001b[0m     indexer \u001b[38;5;241m=\u001b[39m \u001b[38;5;28;43mself\u001b[39;49m\u001b[38;5;241;43m.\u001b[39;49m\u001b[43mcolumns\u001b[49m\u001b[38;5;241;43m.\u001b[39;49m\u001b[43m_get_indexer_strict\u001b[49m\u001b[43m(\u001b[49m\u001b[43mkey\u001b[49m\u001b[43m,\u001b[49m\u001b[43m \u001b[49m\u001b[38;5;124;43m\"\u001b[39;49m\u001b[38;5;124;43mcolumns\u001b[39;49m\u001b[38;5;124;43m\"\u001b[39;49m\u001b[43m)\u001b[49m[\u001b[38;5;241m1\u001b[39m]\n\u001b[0;32m   3513\u001b[0m \u001b[38;5;66;03m# take() does not accept boolean indexers\u001b[39;00m\n\u001b[0;32m   3514\u001b[0m \u001b[38;5;28;01mif\u001b[39;00m \u001b[38;5;28mgetattr\u001b[39m(indexer, \u001b[38;5;124m\"\u001b[39m\u001b[38;5;124mdtype\u001b[39m\u001b[38;5;124m\"\u001b[39m, \u001b[38;5;28;01mNone\u001b[39;00m) \u001b[38;5;241m==\u001b[39m \u001b[38;5;28mbool\u001b[39m:\n",
      "File \u001b[1;32m~\\anaconda3\\lib\\site-packages\\pandas\\core\\indexes\\base.py:5782\u001b[0m, in \u001b[0;36mIndex._get_indexer_strict\u001b[1;34m(self, key, axis_name)\u001b[0m\n\u001b[0;32m   5779\u001b[0m \u001b[38;5;28;01melse\u001b[39;00m:\n\u001b[0;32m   5780\u001b[0m     keyarr, indexer, new_indexer \u001b[38;5;241m=\u001b[39m \u001b[38;5;28mself\u001b[39m\u001b[38;5;241m.\u001b[39m_reindex_non_unique(keyarr)\n\u001b[1;32m-> 5782\u001b[0m \u001b[38;5;28;43mself\u001b[39;49m\u001b[38;5;241;43m.\u001b[39;49m\u001b[43m_raise_if_missing\u001b[49m\u001b[43m(\u001b[49m\u001b[43mkeyarr\u001b[49m\u001b[43m,\u001b[49m\u001b[43m \u001b[49m\u001b[43mindexer\u001b[49m\u001b[43m,\u001b[49m\u001b[43m \u001b[49m\u001b[43maxis_name\u001b[49m\u001b[43m)\u001b[49m\n\u001b[0;32m   5784\u001b[0m keyarr \u001b[38;5;241m=\u001b[39m \u001b[38;5;28mself\u001b[39m\u001b[38;5;241m.\u001b[39mtake(indexer)\n\u001b[0;32m   5785\u001b[0m \u001b[38;5;28;01mif\u001b[39;00m \u001b[38;5;28misinstance\u001b[39m(key, Index):\n\u001b[0;32m   5786\u001b[0m     \u001b[38;5;66;03m# GH 42790 - Preserve name from an Index\u001b[39;00m\n",
      "File \u001b[1;32m~\\anaconda3\\lib\\site-packages\\pandas\\core\\indexes\\base.py:5845\u001b[0m, in \u001b[0;36mIndex._raise_if_missing\u001b[1;34m(self, key, indexer, axis_name)\u001b[0m\n\u001b[0;32m   5842\u001b[0m     \u001b[38;5;28;01mraise\u001b[39;00m \u001b[38;5;167;01mKeyError\u001b[39;00m(\u001b[38;5;124mf\u001b[39m\u001b[38;5;124m\"\u001b[39m\u001b[38;5;124mNone of [\u001b[39m\u001b[38;5;132;01m{\u001b[39;00mkey\u001b[38;5;132;01m}\u001b[39;00m\u001b[38;5;124m] are in the [\u001b[39m\u001b[38;5;132;01m{\u001b[39;00maxis_name\u001b[38;5;132;01m}\u001b[39;00m\u001b[38;5;124m]\u001b[39m\u001b[38;5;124m\"\u001b[39m)\n\u001b[0;32m   5844\u001b[0m not_found \u001b[38;5;241m=\u001b[39m \u001b[38;5;28mlist\u001b[39m(ensure_index(key)[missing_mask\u001b[38;5;241m.\u001b[39mnonzero()[\u001b[38;5;241m0\u001b[39m]]\u001b[38;5;241m.\u001b[39munique())\n\u001b[1;32m-> 5845\u001b[0m \u001b[38;5;28;01mraise\u001b[39;00m \u001b[38;5;167;01mKeyError\u001b[39;00m(\u001b[38;5;124mf\u001b[39m\u001b[38;5;124m\"\u001b[39m\u001b[38;5;132;01m{\u001b[39;00mnot_found\u001b[38;5;132;01m}\u001b[39;00m\u001b[38;5;124m not in index\u001b[39m\u001b[38;5;124m\"\u001b[39m)\n",
      "\u001b[1;31mKeyError\u001b[0m: \"['Rating'] not in index\""
     ]
    }
   ],
   "source": [
    "movies[movies['Language'].str.lower()=='English'][['Name','Rating']].sort_values(by='Rating', ascending=False)"
   ]
  },
  {
   "cell_type": "code",
   "execution_count": null,
   "id": "32baec52-8bf3-44cc-ab70-eb9124e6acb2",
   "metadata": {},
   "outputs": [],
   "source": []
  }
 ],
 "metadata": {
  "kernelspec": {
   "display_name": "Python 3 (ipykernel)",
   "language": "python",
   "name": "python3"
  },
  "language_info": {
   "codemirror_mode": {
    "name": "ipython",
    "version": 3
   },
   "file_extension": ".py",
   "mimetype": "text/x-python",
   "name": "python",
   "nbconvert_exporter": "python",
   "pygments_lexer": "ipython3",
   "version": "3.9.12"
  }
 },
 "nbformat": 4,
 "nbformat_minor": 5
}
