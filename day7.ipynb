{
 "cells": [
  {
   "cell_type": "markdown",
   "id": "24393322-163d-4512-866b-eb066680a9e8",
   "metadata": {},
   "source": [
    "# heading"
   ]
  },
  {
   "cell_type": "markdown",
   "id": "08f85e64-be53-4151-a330-932b8f9678c2",
   "metadata": {},
   "source": [
    "## choti heading"
   ]
  },
  {
   "cell_type": "markdown",
   "id": "1f146449-130d-41c8-aa2c-b2495b5a3053",
   "metadata": {},
   "source": [
    "* pehli line\n",
    "* dusri line"
   ]
  },
  {
   "cell_type": "markdown",
   "id": "3d3716e2-f8c0-427d-a6f6-950edd53ddb4",
   "metadata": {},
   "source": [
    "1. teesri line\n",
    "2. chouthi line"
   ]
  },
  {
   "cell_type": "code",
   "execution_count": 4,
   "id": "d48798d3-e482-4e78-8c93-c15bd5529f2a",
   "metadata": {},
   "outputs": [
    {
     "data": {
      "text/plain": [
       "'C:\\\\Users\\\\Garvi\\\\OneDrive\\\\Documents\\\\Industrail_Training\\\\3rdSem\\\\Machine Learning Training'"
      ]
     },
     "execution_count": 4,
     "metadata": {},
     "output_type": "execute_result"
    }
   ],
   "source": [
    "os.getcwd()"
   ]
  },
  {
   "cell_type": "code",
   "execution_count": 5,
   "id": "31009693-cf0b-4d37-8868-45af68fc15f6",
   "metadata": {},
   "outputs": [],
   "source": [
    "os.chdir('C:\\\\Users\\\\Garvi\\\\OneDrive\\\\Documents\\\\Industrail_Training\\\\3rdSem\\\\Machine Learning Training')"
   ]
  },
  {
   "cell_type": "code",
   "execution_count": 3,
   "id": "2ffd2f0a-3745-4bfd-bb20-6d7d4331bbf5",
   "metadata": {},
   "outputs": [],
   "source": [
    "import os\n"
   ]
  },
  {
   "cell_type": "code",
   "execution_count": 6,
   "id": "7300bcad-73e6-4250-8bcb-31a77b9ddd27",
   "metadata": {},
   "outputs": [
    {
     "data": {
      "text/plain": [
       "'C:\\\\Users\\\\Garvi\\\\OneDrive\\\\Documents\\\\Industrail_Training\\\\3rdSem\\\\Machine Learning Training'"
      ]
     },
     "execution_count": 6,
     "metadata": {},
     "output_type": "execute_result"
    }
   ],
   "source": [
    "os.getcwd()"
   ]
  },
  {
   "cell_type": "code",
   "execution_count": 7,
   "id": "d77cc839-1d3f-447a-bbd6-7f18f8022e9e",
   "metadata": {},
   "outputs": [
    {
     "data": {
      "text/plain": [
       "['.ipynb_checkpoints', 'day6.py', 'day7.ipynb']"
      ]
     },
     "execution_count": 7,
     "metadata": {},
     "output_type": "execute_result"
    }
   ],
   "source": [
    "os.listdir('C:\\\\Users\\\\Garvi\\\\OneDrive\\\\Documents\\\\Industrail_Training\\\\3rdSem\\\\Machine Learning Training')"
   ]
  },
  {
   "cell_type": "code",
   "execution_count": 8,
   "id": "3fcc82e6-f7be-4e22-b53e-c2edc415bf67",
   "metadata": {},
   "outputs": [],
   "source": [
    "# to make a folder\n",
    "os.mkdir('Empty_folder')"
   ]
  },
  {
   "cell_type": "code",
   "execution_count": 9,
   "id": "b48d6a50-14ca-47af-8aae-a921ed27a151",
   "metadata": {},
   "outputs": [],
   "source": [
    "# to remove a folder\n",
    "os.rmdir('Empty_folder')"
   ]
  },
  {
   "cell_type": "markdown",
   "id": "5dcf7d2f-6442-4863-9e93-08f1dda9462d",
   "metadata": {},
   "source": [
    "# Random"
   ]
  },
  {
   "cell_type": "code",
   "execution_count": 10,
   "id": "c75a627d-bc8a-48f1-b9c7-207ee609a369",
   "metadata": {},
   "outputs": [],
   "source": [
    "import random"
   ]
  },
  {
   "cell_type": "code",
   "execution_count": 11,
   "id": "c358877b-9eea-4a69-a927-240e359476d9",
   "metadata": {},
   "outputs": [
    {
     "name": "stdout",
     "output_type": "stream",
     "text": [
      "0.7023518622558156\n"
     ]
    }
   ],
   "source": [
    "val= random.random()\n",
    "print(val)"
   ]
  },
  {
   "cell_type": "code",
   "execution_count": 12,
   "id": "91cff22f-2c65-4419-8257-2d436f540a87",
   "metadata": {},
   "outputs": [],
   "source": [
    "val2= random.randint(1,10)"
   ]
  },
  {
   "cell_type": "code",
   "execution_count": 13,
   "id": "6d3936d7-67c0-41ac-8e1f-c7c9b8dbcf4d",
   "metadata": {},
   "outputs": [
    {
     "name": "stdout",
     "output_type": "stream",
     "text": [
      "4\n"
     ]
    }
   ],
   "source": [
    "print(val2)"
   ]
  },
  {
   "cell_type": "code",
   "execution_count": 19,
   "id": "257d70df-79ef-47a0-a4c0-ca683db66178",
   "metadata": {},
   "outputs": [
    {
     "name": "stdout",
     "output_type": "stream",
     "text": [
      "['hi', 'hi', 'hello', 'hi', 'tata', 'goodbye', 'goodbye', 'tata', 'tata', 'goodbye', 'hi', 'hello', 'hello', 'tata', 'goodbye', 'hi', 'tata', 'tata', 'tata', 'hello']\n"
     ]
    }
   ],
   "source": [
    "m=['hi','hello','tata','goodbye']\n",
    "val= random.choices(m,k=20)\n",
    "print(val)"
   ]
  },
  {
   "cell_type": "code",
   "execution_count": 20,
   "id": "c306eb48-7e98-4db4-a6c4-e4bcf4953bbd",
   "metadata": {},
   "outputs": [
    {
     "name": "stdout",
     "output_type": "stream",
     "text": [
      "['goodbye', 'hello', 'tata', 'hi']\n"
     ]
    }
   ],
   "source": [
    "# Shuffle\n",
    "random.shuffle(m)\n",
    "print(m)"
   ]
  },
  {
   "cell_type": "code",
   "execution_count": null,
   "id": "f5cfe1e1-291e-4052-afcc-9ff3a39dc3f2",
   "metadata": {},
   "outputs": [],
   "source": []
  }
 ],
 "metadata": {
  "kernelspec": {
   "display_name": "Python 3 (ipykernel)",
   "language": "python",
   "name": "python3"
  },
  "language_info": {
   "codemirror_mode": {
    "name": "ipython",
    "version": 3
   },
   "file_extension": ".py",
   "mimetype": "text/x-python",
   "name": "python",
   "nbconvert_exporter": "python",
   "pygments_lexer": "ipython3",
   "version": "3.9.12"
  }
 },
 "nbformat": 4,
 "nbformat_minor": 5
}
